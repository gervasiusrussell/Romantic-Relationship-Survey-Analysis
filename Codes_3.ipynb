{
  "cells": [
    {
      "cell_type": "markdown",
      "metadata": {
        "id": "iLQdyMw9HQ2b"
      },
      "source": [
        "#Preprocess"
      ]
    },
    {
      "cell_type": "markdown",
      "metadata": {
        "id": "OZv9y1HS-vwE"
      },
      "source": [
        "##Import Library & Read Data"
      ]
    },
    {
      "cell_type": "code",
      "execution_count": 1,
      "metadata": {
        "id": "1RBWI2xN3FDW"
      },
      "outputs": [],
      "source": [
        "# Mengimpor library yang dibutuhkan\n",
        "import pandas as pd\n",
        "import numpy as np"
      ]
    },
    {
      "cell_type": "code",
      "execution_count": 2,
      "metadata": {
        "colab": {
          "base_uri": "https://localhost:8080/",
          "height": 333
        },
        "id": "1SaVR8wd3STE",
        "outputId": "85f57073-d96f-415e-a80e-f3984e60474d"
      },
      "outputs": [
        {
          "data": {
            "text/html": [
              "<div>\n",
              "<style scoped>\n",
              "    .dataframe tbody tr th:only-of-type {\n",
              "        vertical-align: middle;\n",
              "    }\n",
              "\n",
              "    .dataframe tbody tr th {\n",
              "        vertical-align: top;\n",
              "    }\n",
              "\n",
              "    .dataframe thead th {\n",
              "        text-align: right;\n",
              "    }\n",
              "</style>\n",
              "<table border=\"1\" class=\"dataframe\">\n",
              "  <thead>\n",
              "    <tr style=\"text-align: right;\">\n",
              "      <th></th>\n",
              "      <th>Timestamp</th>\n",
              "      <th>ð Usia Anda saat ini</th>\n",
              "      <th>ð Semester Anda saat ini</th>\n",
              "      <th>ð Berapa kali Anda pernah menjalin hubungan romantis? (Pacaran &amp;/ HTS)</th>\n",
              "      <th>â±ï¸ Berapa rata-rata durasi hubungan Anda (dalam bulan)?</th>\n",
              "      <th>ð Berapa kali biasanya Anda berkencan dalam sebulan?\\n(Misal: '2' kali/sebulan)</th>\n",
              "      <th>ð Saya merasa puas dengan hubungan saya.</th>\n",
              "      <th>ð Saya merasakan cinta yang kuat dalam hubungan saya.</th>\n",
              "      <th>ð£ï¸ Komunikasi dengan pasangan berjalan baik dan terbuka.</th>\n",
              "      <th>ð¨âð©âð§âð¦ Saya mendapatkan dukungan dari teman &amp; keluarga.</th>\n",
              "      <th>...</th>\n",
              "      <th>ð¥ Seberapa sering konflik terjadi dalam hubungan?</th>\n",
              "      <th>ð¤ Saya dan pasangan mampu menyelesaikan konflik dengan baik.</th>\n",
              "      <th>ð Hubungan saya memengaruhi performa akademik saya.</th>\n",
              "      <th>ðð Jika ada perubahan, bagaimana perubahan IPK Anda?</th>\n",
              "      <th>ð§  Hubungan romantis terakhir Anda lebih cenderung...</th>\n",
              "      <th>ð« Bagaimana Anda bertemu dengan pasangan terakhir Anda?</th>\n",
              "      <th>ð¤ Jenis Kelamin</th>\n",
              "      <th>ð§  Fakultas dari Jurusan Anda</th>\n",
              "      <th>ð Apakah Anda saat ini sedang berada dalam hubungan romantis? (Pacaran &amp;/ HTS)</th>\n",
              "      <th>ð Apakah sebelumnya sudah pernah berada dalam hubungan romantis? (Pacaran &amp;/ HTS)</th>\n",
              "    </tr>\n",
              "  </thead>\n",
              "  <tbody>\n",
              "    <tr>\n",
              "      <th>0</th>\n",
              "      <td>5/13/2025 13:54:52</td>\n",
              "      <td>20</td>\n",
              "      <td>Semester 4</td>\n",
              "      <td>3.0</td>\n",
              "      <td>12.0</td>\n",
              "      <td>16.0</td>\n",
              "      <td>4.0</td>\n",
              "      <td>5.0</td>\n",
              "      <td>4.0</td>\n",
              "      <td>5.0</td>\n",
              "      <td>...</td>\n",
              "      <td>3.0</td>\n",
              "      <td>4.0</td>\n",
              "      <td>Ya</td>\n",
              "      <td>Naik</td>\n",
              "      <td>Sangat mendukung ð</td>\n",
              "      <td>Di kampus/organisasi ð«</td>\n",
              "      <td>Laki-laki</td>\n",
              "      <td>School of Computer Science</td>\n",
              "      <td>Ya</td>\n",
              "      <td>Pernah</td>\n",
              "    </tr>\n",
              "    <tr>\n",
              "      <th>1</th>\n",
              "      <td>5/14/2025 10:02:17</td>\n",
              "      <td>20</td>\n",
              "      <td>Semester 4</td>\n",
              "      <td>2.0</td>\n",
              "      <td>12.0</td>\n",
              "      <td>8.0</td>\n",
              "      <td>5.0</td>\n",
              "      <td>5.0</td>\n",
              "      <td>5.0</td>\n",
              "      <td>5.0</td>\n",
              "      <td>...</td>\n",
              "      <td>3.0</td>\n",
              "      <td>4.0</td>\n",
              "      <td>Tidak</td>\n",
              "      <td>NaN</td>\n",
              "      <td>Cukup mendukung ð</td>\n",
              "      <td>Media sosial (Instagram, Twitter, dsb.) ð±</td>\n",
              "      <td>Laki-laki</td>\n",
              "      <td>School of Computer Science</td>\n",
              "      <td>Ya</td>\n",
              "      <td>Pernah</td>\n",
              "    </tr>\n",
              "    <tr>\n",
              "      <th>2</th>\n",
              "      <td>5/14/2025 10:04:06</td>\n",
              "      <td>19</td>\n",
              "      <td>Semester 4</td>\n",
              "      <td>2.0</td>\n",
              "      <td>48.0</td>\n",
              "      <td>4.0</td>\n",
              "      <td>5.0</td>\n",
              "      <td>5.0</td>\n",
              "      <td>4.0</td>\n",
              "      <td>4.0</td>\n",
              "      <td>...</td>\n",
              "      <td>5.0</td>\n",
              "      <td>4.0</td>\n",
              "      <td>Tidak</td>\n",
              "      <td>NaN</td>\n",
              "      <td>Netral ð</td>\n",
              "      <td>Melalui teman ð¤</td>\n",
              "      <td>Laki-laki</td>\n",
              "      <td>School of Computer Science</td>\n",
              "      <td>Ya</td>\n",
              "      <td>Pernah</td>\n",
              "    </tr>\n",
              "    <tr>\n",
              "      <th>3</th>\n",
              "      <td>5/14/2025 12:27:38</td>\n",
              "      <td>19</td>\n",
              "      <td>Semester 4</td>\n",
              "      <td>3.0</td>\n",
              "      <td>30.0</td>\n",
              "      <td>4.0</td>\n",
              "      <td>5.0</td>\n",
              "      <td>5.0</td>\n",
              "      <td>5.0</td>\n",
              "      <td>4.0</td>\n",
              "      <td>...</td>\n",
              "      <td>2.0</td>\n",
              "      <td>5.0</td>\n",
              "      <td>Ya</td>\n",
              "      <td>Turun</td>\n",
              "      <td>Sangat mendukung ð</td>\n",
              "      <td>Melalui teman ð¤</td>\n",
              "      <td>Laki-laki</td>\n",
              "      <td>School of Computer Science</td>\n",
              "      <td>Ya</td>\n",
              "      <td>Pernah</td>\n",
              "    </tr>\n",
              "    <tr>\n",
              "      <th>4</th>\n",
              "      <td>5/14/2025 12:29:30</td>\n",
              "      <td>20</td>\n",
              "      <td>Semester 4</td>\n",
              "      <td>NaN</td>\n",
              "      <td>NaN</td>\n",
              "      <td>NaN</td>\n",
              "      <td>NaN</td>\n",
              "      <td>NaN</td>\n",
              "      <td>NaN</td>\n",
              "      <td>NaN</td>\n",
              "      <td>...</td>\n",
              "      <td>NaN</td>\n",
              "      <td>NaN</td>\n",
              "      <td>NaN</td>\n",
              "      <td>NaN</td>\n",
              "      <td>NaN</td>\n",
              "      <td>NaN</td>\n",
              "      <td>Laki-laki</td>\n",
              "      <td>School of Computer Science</td>\n",
              "      <td>NaN</td>\n",
              "      <td>Belum pernah</td>\n",
              "    </tr>\n",
              "  </tbody>\n",
              "</table>\n",
              "<p>5 rows × 21 columns</p>\n",
              "</div>"
            ],
            "text/plain": [
              "            Timestamp    ð Usia Anda saat ini  \\\n",
              "0  5/13/2025 13:54:52                         20   \n",
              "1  5/14/2025 10:02:17                         20   \n",
              "2  5/14/2025 10:04:06                         19   \n",
              "3  5/14/2025 12:27:38                         19   \n",
              "4  5/14/2025 12:29:30                         20   \n",
              "\n",
              "    ð Semester Anda saat ini  \\\n",
              "0                    Semester 4   \n",
              "1                    Semester 4   \n",
              "2                    Semester 4   \n",
              "3                    Semester 4   \n",
              "4                    Semester 4   \n",
              "\n",
              "     ð Berapa kali Anda pernah menjalin hubungan romantis? (Pacaran &/ HTS)  \\\n",
              "0                                                3.0                             \n",
              "1                                                2.0                             \n",
              "2                                                2.0                             \n",
              "3                                                3.0                             \n",
              "4                                                NaN                             \n",
              "\n",
              "     â±ï¸ Berapa rata-rata durasi hubungan Anda (dalam bulan)?  \\\n",
              "0                                               12.0               \n",
              "1                                               12.0               \n",
              "2                                               48.0               \n",
              "3                                               30.0               \n",
              "4                                                NaN               \n",
              "\n",
              "     ð\n",
              " Berapa kali biasanya Anda berkencan dalam sebulan?\\n(Misal: '2' kali/sebulan)  \\\n",
              "0                                               16.0                                      \n",
              "1                                                8.0                                      \n",
              "2                                                4.0                                      \n",
              "3                                                4.0                                      \n",
              "4                                                NaN                                      \n",
              "\n",
              "     ð Saya merasa puas dengan hubungan saya.  \\\n",
              "0                                            4.0   \n",
              "1                                            5.0   \n",
              "2                                            5.0   \n",
              "3                                            5.0   \n",
              "4                                            NaN   \n",
              "\n",
              "     ð Saya merasakan cinta yang kuat dalam hubungan saya.  \\\n",
              "0                                                5.0            \n",
              "1                                                5.0            \n",
              "2                                                5.0            \n",
              "3                                                5.0            \n",
              "4                                                NaN            \n",
              "\n",
              "     ð£ï¸ Komunikasi dengan pasangan berjalan baik dan terbuka.  \\\n",
              "0                                                4.0                 \n",
              "1                                                5.0                 \n",
              "2                                                4.0                 \n",
              "3                                                5.0                 \n",
              "4                                                NaN                 \n",
              "\n",
              "     ð¨âð©âð§âð¦ Saya mendapatkan dukungan dari teman & keluarga.  \\\n",
              "0                                                5.0                              \n",
              "1                                                5.0                              \n",
              "2                                                4.0                              \n",
              "3                                                4.0                              \n",
              "4                                                NaN                              \n",
              "\n",
              "   ...    ð¥ Seberapa sering konflik terjadi dalam hubungan?  \\\n",
              "0  ...                                                3.0        \n",
              "1  ...                                                3.0        \n",
              "2  ...                                                5.0        \n",
              "3  ...                                                2.0        \n",
              "4  ...                                                NaN        \n",
              "\n",
              "   ð¤ Saya dan pasangan mampu menyelesaikan konflik dengan baik.  \\\n",
              "0                                                4.0                 \n",
              "1                                                4.0                 \n",
              "2                                                4.0                 \n",
              "3                                                5.0                 \n",
              "4                                                NaN                 \n",
              "\n",
              "     ð Hubungan saya memengaruhi performa akademik saya.  \\\n",
              "0                                                 Ya          \n",
              "1                                              Tidak          \n",
              "2                                              Tidak          \n",
              "3                                                 Ya          \n",
              "4                                                NaN          \n",
              "\n",
              "    ðð Jika ada perubahan, bagaimana perubahan IPK Anda?  \\\n",
              "0                                               Naik             \n",
              "1                                                NaN             \n",
              "2                                                NaN             \n",
              "3                                              Turun             \n",
              "4                                                NaN             \n",
              "\n",
              "    ð§  Hubungan romantis terakhir Anda lebih cenderung...  \\\n",
              "0                              Sangat mendukung ð          \n",
              "1                               Cukup mendukung ð          \n",
              "2                                        Netral ð          \n",
              "3                              Sangat mendukung ð          \n",
              "4                                                NaN          \n",
              "\n",
              "    ð« Bagaimana Anda bertemu dengan pasangan terakhir Anda?  \\\n",
              "0                          Di kampus/organisasi ð«             \n",
              "1       Media sosial (Instagram, Twitter, dsb.) ð±             \n",
              "2                                 Melalui teman ð¤             \n",
              "3                                 Melalui teman ð¤             \n",
              "4                                                NaN             \n",
              "\n",
              "    ð¤ Jenis Kelamin   ð§  Fakultas dari Jurusan Anda  \\\n",
              "0            Laki-laki        School of Computer Science   \n",
              "1            Laki-laki        School of Computer Science   \n",
              "2            Laki-laki        School of Computer Science   \n",
              "3            Laki-laki        School of Computer Science   \n",
              "4            Laki-laki        School of Computer Science   \n",
              "\n",
              "    ð Apakah Anda saat ini sedang berada dalam hubungan romantis? (Pacaran &/ HTS)  \\\n",
              "0                                                 Ya                                    \n",
              "1                                                 Ya                                    \n",
              "2                                                 Ya                                    \n",
              "3                                                 Ya                                    \n",
              "4                                                NaN                                    \n",
              "\n",
              "    ð Apakah sebelumnya sudah pernah berada dalam hubungan romantis? (Pacaran &/ HTS)   \n",
              "0                                             Pernah                                       \n",
              "1                                             Pernah                                       \n",
              "2                                             Pernah                                       \n",
              "3                                             Pernah                                       \n",
              "4                                       Belum pernah                                       \n",
              "\n",
              "[5 rows x 21 columns]"
            ]
          },
          "execution_count": 2,
          "metadata": {},
          "output_type": "execute_result"
        }
      ],
      "source": [
        "# Membaca data\n",
        "df = pd.read_csv(\"DataBefore_3.csv\", encoding='ISO-8859-1')\n",
        "df.head()"
      ]
    },
    {
      "cell_type": "markdown",
      "metadata": {
        "id": "KIwxnXnk-3UQ"
      },
      "source": [
        "##Mengolah Data Keseluruhan"
      ]
    },
    {
      "cell_type": "code",
      "execution_count": 3,
      "metadata": {
        "id": "3NtkFxhR8QM1"
      },
      "outputs": [],
      "source": [
        "# Menghapus kolom 'Timestamp' dari df_pernah\n",
        "df = df.drop('Timestamp', axis=1)"
      ]
    },
    {
      "cell_type": "code",
      "execution_count": 4,
      "metadata": {
        "id": "Ze80WxDz3cWa"
      },
      "outputs": [
        {
          "name": "stdout",
          "output_type": "stream",
          "text": [
            "<class 'pandas.core.frame.DataFrame'>\n",
            "RangeIndex: 438 entries, 0 to 437\n",
            "Data columns (total 20 columns):\n",
            " #   Column                                                                                   Non-Null Count  Dtype  \n",
            "---  ------                                                                                   --------------  -----  \n",
            " 0     ð Usia Anda saat ini                                                                438 non-null    int64  \n",
            " 1     ð Semester Anda saat ini                                                            438 non-null    object \n",
            " 2     ð Berapa kali Anda pernah menjalin hubungan romantis? (Pacaran &/ HTS)              350 non-null    float64\n",
            " 3     â±ï¸ Berapa rata-rata durasi hubungan Anda (dalam bulan)?                            350 non-null    float64\n",
            " 4     ð Berapa kali biasanya Anda berkencan dalam sebulan?\n",
            "(Misal: '2' kali/sebulan)      350 non-null    float64\n",
            " 5     ð Saya merasa puas dengan hubungan saya.                                            350 non-null    float64\n",
            " 6     ð Saya merasakan cinta yang kuat dalam hubungan saya.                               350 non-null    float64\n",
            " 7     ð£ï¸ Komunikasi dengan pasangan berjalan baik dan terbuka.                          350 non-null    float64\n",
            " 8     ð¨âð©âð§âð¦ Saya mendapatkan dukungan dari teman & keluarga.             350 non-null    float64\n",
            " 9     ð± Media sosial berpengaruh terhadap hubungan saya.                                  350 non-null    float64\n",
            " 10    ð¥ Seberapa sering konflik terjadi dalam hubungan?                                   350 non-null    float64\n",
            " 11  ð¤ Saya dan pasangan mampu menyelesaikan konflik dengan baik.                          350 non-null    float64\n",
            " 12    ð Hubungan saya memengaruhi performa akademik saya.                                 350 non-null    object \n",
            " 13    ðð Jika ada perubahan, bagaimana perubahan IPK Anda?                             146 non-null    object \n",
            " 14    ð§  Hubungan romantis terakhir Anda lebih cenderung...                                350 non-null    object \n",
            " 15    ð« Bagaimana Anda bertemu dengan pasangan terakhir Anda?                             350 non-null    object \n",
            " 16    ð¤ Jenis Kelamin                                                                     438 non-null    object \n",
            " 17    ð§  Fakultas dari Jurusan Anda                                                        438 non-null    object \n",
            " 18    ð Apakah Anda saat ini sedang berada dalam hubungan romantis? (Pacaran &/ HTS)      350 non-null    object \n",
            " 19    ð Apakah sebelumnya sudah pernah berada dalam hubungan romantis? (Pacaran &/ HTS)   438 non-null    object \n",
            "dtypes: float64(10), int64(1), object(9)\n",
            "memory usage: 68.6+ KB\n"
          ]
        }
      ],
      "source": [
        "# Melihat info data secara keseluruhan\n",
        "df.info()"
      ]
    },
    {
      "cell_type": "code",
      "execution_count": 5,
      "metadata": {
        "id": "SG5mIORuvQ9I"
      },
      "outputs": [],
      "source": [
        "df.columns = df.columns.str.replace(r\"[\\n\\r\\t]\", \"\", regex=True).str.strip()"
      ]
    },
    {
      "cell_type": "code",
      "execution_count": 6,
      "metadata": {
        "id": "Z1qc7m7qbPn2"
      },
      "outputs": [],
      "source": [
        "# BUANG EMOJI DI SELURUH DATASET\n",
        "import pandas as pd\n",
        "import re\n",
        "\n",
        "# Sample cleaning function: remove non-ASCII characters and trim whitespace\n",
        "def clean_text(val):\n",
        "    if isinstance(val, str):\n",
        "        val = re.sub(r'[^\\x00-\\x7F]+', '', val)  # Remove non-ASCII characters\n",
        "        val = val.strip()  # Trim leading/trailing whitespace\n",
        "    return val\n",
        "\n",
        "# Clean column names\n",
        "df.columns = [clean_text(col) for col in df.columns]\n",
        "\n",
        "# Clean all string values in the DataFrame\n",
        "df = df.applymap(clean_text)"
      ]
    },
    {
      "cell_type": "code",
      "execution_count": 7,
      "metadata": {
        "id": "lAleb_rLvWni"
      },
      "outputs": [],
      "source": [
        "cleaned_rename_dict = {\n",
        "    k.replace('\\n', '').replace('\\r', '').replace('\\t', '').strip(): v\n",
        "    for k, v in {\n",
        "      'Usia Anda saat ini': 'Usia Responden',\n",
        "      'Semester Anda saat ini': 'Semester Responden',\n",
        "      'Berapa kali Anda pernah menjalin hubungan romantis? (Pacaran &/ HTS)': 'Jumlah Hubungan Responden',\n",
        "      'Berapa rata-rata durasi hubungan Anda (dalam bulan)?': 'Durasi Rata-rata Hubungan Responden',\n",
        "      \"Berapa kali biasanya Anda berkencan dalam sebulan?(Misal: '2' kali/sebulan)\": 'Jumlah Kencan Responden',\n",
        "      'Saya merasa puas dengan hubungan saya.': 'Tingkat Kepuasan Responden dalam Hubungan',\n",
        "      'Saya merasakan cinta yang kuat dalam hubungan saya.': 'Tingkat Kekuatan Cinta Responden dalam Hubungan',\n",
        "      'Komunikasi dengan pasangan berjalan baik dan terbuka.': 'Tingkat Keterbukaan Komunikasi Responden dalam Hubungan',\n",
        "      'Saya mendapatkan dukungan dari teman & keluarga.': 'Respon Teman & Keluarga terhadap Hubungan Responden',\n",
        "      'Media sosial berpengaruh terhadap hubungan saya.': 'Pengaruh Media Sosial terhadap Hubungan Responden',\n",
        "      'Seberapa sering konflik terjadi dalam hubungan?': 'Frekuensi Konflik dalam Hubungan Responden',\n",
        "      'Saya dan pasangan mampu menyelesaikan konflik dengan baik.': 'Penyelesaian Responden & Pasangan terhadap Konflik',\n",
        "      'Hubungan saya memengaruhi performa akademik saya.': 'Pengaruh Hubungan terhadap Performa Akademik Responden',\n",
        "      'Jika ada perubahan, bagaimana perubahan IPK Anda?': 'Perubahan IPK yang Dialami Responden',\n",
        "      'Hubungan romantis terakhir Anda lebih cenderung...': 'Pendapat Responden terhadap Hubungan Terakhir',\n",
        "      'Bagaimana Anda bertemu dengan pasangan terakhir Anda?': 'Media atau Bagaimana Responden Bertemu dengan Pasangan',\n",
        "      'Jenis Kelamin': 'Jenis Kelamin',\n",
        "      'Fakultas dari Jurusan Anda': 'Fakultas Responden',\n",
        "      'Apakah Anda saat ini sedang berada dalam hubungan romantis? (Pacaran &/ HTS)': 'Status Responden Saat Ini',\n",
        "      'Apakah sebelumnya sudah pernah berada dalam hubungan romantis? (Pacaran &/ HTS)': 'Status Responden Sebelumnya'\n",
        "    }.items()\n",
        "}"
      ]
    },
    {
      "cell_type": "code",
      "execution_count": 8,
      "metadata": {
        "id": "gdL_L6EkvYXW"
      },
      "outputs": [],
      "source": [
        "df = df.rename(columns=cleaned_rename_dict)\n"
      ]
    },
    {
      "cell_type": "code",
      "execution_count": 9,
      "metadata": {
        "id": "SIKBahNA35e3"
      },
      "outputs": [
        {
          "name": "stdout",
          "output_type": "stream",
          "text": [
            "<class 'pandas.core.frame.DataFrame'>\n",
            "RangeIndex: 438 entries, 0 to 437\n",
            "Data columns (total 20 columns):\n",
            " #   Column                                                   Non-Null Count  Dtype  \n",
            "---  ------                                                   --------------  -----  \n",
            " 0   Usia Responden                                           438 non-null    int64  \n",
            " 1   Semester Responden                                       438 non-null    object \n",
            " 2   Jumlah Hubungan Responden                                350 non-null    float64\n",
            " 3   Durasi Rata-rata Hubungan Responden                      350 non-null    float64\n",
            " 4   Jumlah Kencan Responden                                  350 non-null    float64\n",
            " 5   Tingkat Kepuasan Responden dalam Hubungan                350 non-null    float64\n",
            " 6   Tingkat Kekuatan Cinta Responden dalam Hubungan          350 non-null    float64\n",
            " 7   Tingkat Keterbukaan Komunikasi Responden dalam Hubungan  350 non-null    float64\n",
            " 8   Respon Teman & Keluarga terhadap Hubungan Responden      350 non-null    float64\n",
            " 9   Pengaruh Media Sosial terhadap Hubungan Responden        350 non-null    float64\n",
            " 10  Frekuensi Konflik dalam Hubungan Responden               350 non-null    float64\n",
            " 11  Penyelesaian Responden & Pasangan terhadap Konflik       350 non-null    float64\n",
            " 12  Pengaruh Hubungan terhadap Performa Akademik Responden   350 non-null    object \n",
            " 13  Perubahan IPK yang Dialami Responden                     146 non-null    object \n",
            " 14  Pendapat Responden terhadap Hubungan Terakhir            350 non-null    object \n",
            " 15  Media atau Bagaimana Responden Bertemu dengan Pasangan   350 non-null    object \n",
            " 16  Jenis Kelamin                                            438 non-null    object \n",
            " 17  Fakultas Responden                                       438 non-null    object \n",
            " 18  Status Responden Saat Ini                                350 non-null    object \n",
            " 19  Status Responden Sebelumnya                              438 non-null    object \n",
            "dtypes: float64(10), int64(1), object(9)\n",
            "memory usage: 68.6+ KB\n"
          ]
        }
      ],
      "source": [
        "df.info()"
      ]
    },
    {
      "cell_type": "code",
      "execution_count": 10,
      "metadata": {
        "id": "hvmN5vR84uJ4"
      },
      "outputs": [
        {
          "data": {
            "text/plain": [
              "Usia Responden                                               0\n",
              "Semester Responden                                           0\n",
              "Jumlah Hubungan Responden                                   88\n",
              "Durasi Rata-rata Hubungan Responden                         88\n",
              "Jumlah Kencan Responden                                     88\n",
              "Tingkat Kepuasan Responden dalam Hubungan                   88\n",
              "Tingkat Kekuatan Cinta Responden dalam Hubungan             88\n",
              "Tingkat Keterbukaan Komunikasi Responden dalam Hubungan     88\n",
              "Respon Teman & Keluarga terhadap Hubungan Responden         88\n",
              "Pengaruh Media Sosial terhadap Hubungan Responden           88\n",
              "Frekuensi Konflik dalam Hubungan Responden                  88\n",
              "Penyelesaian Responden & Pasangan terhadap Konflik          88\n",
              "Pengaruh Hubungan terhadap Performa Akademik Responden      88\n",
              "Perubahan IPK yang Dialami Responden                       292\n",
              "Pendapat Responden terhadap Hubungan Terakhir               88\n",
              "Media atau Bagaimana Responden Bertemu dengan Pasangan      88\n",
              "Jenis Kelamin                                                0\n",
              "Fakultas Responden                                           0\n",
              "Status Responden Saat Ini                                   88\n",
              "Status Responden Sebelumnya                                  0\n",
              "dtype: int64"
            ]
          },
          "execution_count": 10,
          "metadata": {},
          "output_type": "execute_result"
        }
      ],
      "source": [
        "# Mengecek nilai kosong pada data\n",
        "df.isnull().sum()"
      ]
    },
    {
      "cell_type": "markdown",
      "metadata": {
        "id": "KUWv59hf-kcQ"
      },
      "source": [
        "### Mengubah (Encode) Data df (Keseluruhan)"
      ]
    },
    {
      "cell_type": "code",
      "execution_count": 11,
      "metadata": {
        "id": "X4S7PqY99aBH"
      },
      "outputs": [
        {
          "data": {
            "text/plain": [
              "array(['Semester 4', 'Semester 2', 'Semester 6', 'Semester 3'],\n",
              "      dtype=object)"
            ]
          },
          "execution_count": 11,
          "metadata": {},
          "output_type": "execute_result"
        }
      ],
      "source": [
        "# Mengubah nilai-nilai data pada kolom 'Semester Responden' menjadi numerik\n",
        "df['Semester Responden'].unique()"
      ]
    },
    {
      "cell_type": "code",
      "execution_count": 12,
      "metadata": {
        "id": "l5fobBxX9lyL"
      },
      "outputs": [],
      "source": [
        "# Mengubah nilai-nilai data pada kolom 'Semester Responden'\n",
        "mapping = {\n",
        "    'Semester 2': 2,\n",
        "    'Semester 4': 4,\n",
        "    'Semester 6': 6\n",
        "}\n",
        "df['Semester Responden'] = df['Semester Responden'].map(mapping)"
      ]
    },
    {
      "cell_type": "code",
      "execution_count": 13,
      "metadata": {
        "id": "XK0sidYL_MmB"
      },
      "outputs": [
        {
          "data": {
            "text/plain": [
              "array(['Laki-laki', 'Perempuan'], dtype=object)"
            ]
          },
          "execution_count": 13,
          "metadata": {},
          "output_type": "execute_result"
        }
      ],
      "source": [
        "# Mengubah nilai-nilai data pada kolom 'Jenis Kelamin' menjadi numerik\n",
        "df['Jenis Kelamin'].unique()"
      ]
    },
    {
      "cell_type": "code",
      "execution_count": 14,
      "metadata": {
        "id": "Z7Rcj9yg_NS-"
      },
      "outputs": [],
      "source": [
        "# Mengubah nilai-nilai data pada kolom 'Jenis Kelamin'\n",
        "mapping = {\n",
        "    'Laki-laki': 1,\n",
        "    'Perempuan': 0\n",
        "}\n",
        "df['Jenis Kelamin'] = df['Jenis Kelamin'].map(mapping)"
      ]
    },
    {
      "cell_type": "code",
      "execution_count": 15,
      "metadata": {
        "id": "vrB2a2eU_Ow1"
      },
      "outputs": [
        {
          "data": {
            "text/plain": [
              "array(['School of Computer Science', 'Faculty of Engineering',\n",
              "       'School of Accounting', 'Faculty of Humanities',\n",
              "       'Faculty of Digital Communication and Hotel and Tourism',\n",
              "       'BINUS Business School', 'School of Information Systems',\n",
              "       'School of Design'], dtype=object)"
            ]
          },
          "execution_count": 15,
          "metadata": {},
          "output_type": "execute_result"
        }
      ],
      "source": [
        "# Mengubah nilai-nilai data pada kolom 'Fakultas Responden' menjadi numerik\n",
        "df['Fakultas Responden'].unique()"
      ]
    },
    {
      "cell_type": "code",
      "execution_count": 16,
      "metadata": {
        "id": "-5T_gJnt_RPI"
      },
      "outputs": [],
      "source": [
        "# Mengubah nilai-nilai data pada kolom 'Fakultas Responden'\n",
        "mapping = {\n",
        "    'School of Computer Science': 1,\n",
        "    'Faculty of Engineering': 2,\n",
        "    'School of Accounting': 3,\n",
        "    'Faculty of Humanities': 4,\n",
        "    'Faculty of Digital Communication and Hotel and Tourism': 5,\n",
        "    'BINUS Business School': 6,\n",
        "    'School of Information Systems': 7,\n",
        "    'School of Design': 8\n",
        "}\n",
        "df['Fakultas Responden'] = df['Fakultas Responden'].map(mapping)"
      ]
    },
    {
      "cell_type": "code",
      "execution_count": 17,
      "metadata": {
        "id": "R-ViQord_1Gv"
      },
      "outputs": [
        {
          "data": {
            "text/plain": [
              "array(['Pernah', 'Belum pernah'], dtype=object)"
            ]
          },
          "execution_count": 17,
          "metadata": {},
          "output_type": "execute_result"
        }
      ],
      "source": [
        "# Mengubah nilai-nilai data pada kolom 'Status Responden Masa Lalu'\n",
        "df['Status Responden Sebelumnya'].unique()"
      ]
    },
    {
      "cell_type": "code",
      "execution_count": 18,
      "metadata": {
        "id": "326i1r3A_1wl"
      },
      "outputs": [],
      "source": [
        "# Mengubah nilai-nilai data pada kolom 'Status Responden Sebelumnya'\n",
        "mapping = {\n",
        "    'Pernah': 1,\n",
        "    'Belum pernah': 0\n",
        "}\n",
        "df['Status Responden Sebelumnya'] = df['Status Responden Sebelumnya'].map(mapping)"
      ]
    },
    {
      "cell_type": "code",
      "execution_count": 19,
      "metadata": {
        "id": "qyx4DhssCK0S"
      },
      "outputs": [
        {
          "data": {
            "text/html": [
              "<div>\n",
              "<style scoped>\n",
              "    .dataframe tbody tr th:only-of-type {\n",
              "        vertical-align: middle;\n",
              "    }\n",
              "\n",
              "    .dataframe tbody tr th {\n",
              "        vertical-align: top;\n",
              "    }\n",
              "\n",
              "    .dataframe thead th {\n",
              "        text-align: right;\n",
              "    }\n",
              "</style>\n",
              "<table border=\"1\" class=\"dataframe\">\n",
              "  <thead>\n",
              "    <tr style=\"text-align: right;\">\n",
              "      <th></th>\n",
              "      <th>Usia Responden</th>\n",
              "      <th>Semester Responden</th>\n",
              "      <th>Jumlah Hubungan Responden</th>\n",
              "      <th>Durasi Rata-rata Hubungan Responden</th>\n",
              "      <th>Jumlah Kencan Responden</th>\n",
              "      <th>Tingkat Kepuasan Responden dalam Hubungan</th>\n",
              "      <th>Tingkat Kekuatan Cinta Responden dalam Hubungan</th>\n",
              "      <th>Tingkat Keterbukaan Komunikasi Responden dalam Hubungan</th>\n",
              "      <th>Respon Teman &amp; Keluarga terhadap Hubungan Responden</th>\n",
              "      <th>Pengaruh Media Sosial terhadap Hubungan Responden</th>\n",
              "      <th>Frekuensi Konflik dalam Hubungan Responden</th>\n",
              "      <th>Penyelesaian Responden &amp; Pasangan terhadap Konflik</th>\n",
              "      <th>Pengaruh Hubungan terhadap Performa Akademik Responden</th>\n",
              "      <th>Perubahan IPK yang Dialami Responden</th>\n",
              "      <th>Pendapat Responden terhadap Hubungan Terakhir</th>\n",
              "      <th>Media atau Bagaimana Responden Bertemu dengan Pasangan</th>\n",
              "      <th>Jenis Kelamin</th>\n",
              "      <th>Fakultas Responden</th>\n",
              "      <th>Status Responden Saat Ini</th>\n",
              "      <th>Status Responden Sebelumnya</th>\n",
              "    </tr>\n",
              "  </thead>\n",
              "  <tbody>\n",
              "    <tr>\n",
              "      <th>0</th>\n",
              "      <td>20</td>\n",
              "      <td>4.0</td>\n",
              "      <td>3.0</td>\n",
              "      <td>12.0</td>\n",
              "      <td>16.0</td>\n",
              "      <td>4.0</td>\n",
              "      <td>5.0</td>\n",
              "      <td>4.0</td>\n",
              "      <td>5.0</td>\n",
              "      <td>5.0</td>\n",
              "      <td>3.0</td>\n",
              "      <td>4.0</td>\n",
              "      <td>Ya</td>\n",
              "      <td>Naik</td>\n",
              "      <td>Sangat mendukung</td>\n",
              "      <td>Di kampus/organisasi</td>\n",
              "      <td>1</td>\n",
              "      <td>1</td>\n",
              "      <td>Ya</td>\n",
              "      <td>1</td>\n",
              "    </tr>\n",
              "    <tr>\n",
              "      <th>1</th>\n",
              "      <td>20</td>\n",
              "      <td>4.0</td>\n",
              "      <td>2.0</td>\n",
              "      <td>12.0</td>\n",
              "      <td>8.0</td>\n",
              "      <td>5.0</td>\n",
              "      <td>5.0</td>\n",
              "      <td>5.0</td>\n",
              "      <td>5.0</td>\n",
              "      <td>5.0</td>\n",
              "      <td>3.0</td>\n",
              "      <td>4.0</td>\n",
              "      <td>Tidak</td>\n",
              "      <td>NaN</td>\n",
              "      <td>Cukup mendukung</td>\n",
              "      <td>Media sosial (Instagram, Twitter, dsb.)</td>\n",
              "      <td>1</td>\n",
              "      <td>1</td>\n",
              "      <td>Ya</td>\n",
              "      <td>1</td>\n",
              "    </tr>\n",
              "    <tr>\n",
              "      <th>2</th>\n",
              "      <td>19</td>\n",
              "      <td>4.0</td>\n",
              "      <td>2.0</td>\n",
              "      <td>48.0</td>\n",
              "      <td>4.0</td>\n",
              "      <td>5.0</td>\n",
              "      <td>5.0</td>\n",
              "      <td>4.0</td>\n",
              "      <td>4.0</td>\n",
              "      <td>4.0</td>\n",
              "      <td>5.0</td>\n",
              "      <td>4.0</td>\n",
              "      <td>Tidak</td>\n",
              "      <td>NaN</td>\n",
              "      <td>Netral</td>\n",
              "      <td>Melalui teman</td>\n",
              "      <td>1</td>\n",
              "      <td>1</td>\n",
              "      <td>Ya</td>\n",
              "      <td>1</td>\n",
              "    </tr>\n",
              "    <tr>\n",
              "      <th>3</th>\n",
              "      <td>19</td>\n",
              "      <td>4.0</td>\n",
              "      <td>3.0</td>\n",
              "      <td>30.0</td>\n",
              "      <td>4.0</td>\n",
              "      <td>5.0</td>\n",
              "      <td>5.0</td>\n",
              "      <td>5.0</td>\n",
              "      <td>4.0</td>\n",
              "      <td>1.0</td>\n",
              "      <td>2.0</td>\n",
              "      <td>5.0</td>\n",
              "      <td>Ya</td>\n",
              "      <td>Turun</td>\n",
              "      <td>Sangat mendukung</td>\n",
              "      <td>Melalui teman</td>\n",
              "      <td>1</td>\n",
              "      <td>1</td>\n",
              "      <td>Ya</td>\n",
              "      <td>1</td>\n",
              "    </tr>\n",
              "    <tr>\n",
              "      <th>4</th>\n",
              "      <td>20</td>\n",
              "      <td>4.0</td>\n",
              "      <td>NaN</td>\n",
              "      <td>NaN</td>\n",
              "      <td>NaN</td>\n",
              "      <td>NaN</td>\n",
              "      <td>NaN</td>\n",
              "      <td>NaN</td>\n",
              "      <td>NaN</td>\n",
              "      <td>NaN</td>\n",
              "      <td>NaN</td>\n",
              "      <td>NaN</td>\n",
              "      <td>NaN</td>\n",
              "      <td>NaN</td>\n",
              "      <td>NaN</td>\n",
              "      <td>NaN</td>\n",
              "      <td>1</td>\n",
              "      <td>1</td>\n",
              "      <td>NaN</td>\n",
              "      <td>0</td>\n",
              "    </tr>\n",
              "  </tbody>\n",
              "</table>\n",
              "</div>"
            ],
            "text/plain": [
              "   Usia Responden  Semester Responden  Jumlah Hubungan Responden  \\\n",
              "0              20                 4.0                        3.0   \n",
              "1              20                 4.0                        2.0   \n",
              "2              19                 4.0                        2.0   \n",
              "3              19                 4.0                        3.0   \n",
              "4              20                 4.0                        NaN   \n",
              "\n",
              "   Durasi Rata-rata Hubungan Responden  Jumlah Kencan Responden  \\\n",
              "0                                 12.0                     16.0   \n",
              "1                                 12.0                      8.0   \n",
              "2                                 48.0                      4.0   \n",
              "3                                 30.0                      4.0   \n",
              "4                                  NaN                      NaN   \n",
              "\n",
              "   Tingkat Kepuasan Responden dalam Hubungan  \\\n",
              "0                                        4.0   \n",
              "1                                        5.0   \n",
              "2                                        5.0   \n",
              "3                                        5.0   \n",
              "4                                        NaN   \n",
              "\n",
              "   Tingkat Kekuatan Cinta Responden dalam Hubungan  \\\n",
              "0                                              5.0   \n",
              "1                                              5.0   \n",
              "2                                              5.0   \n",
              "3                                              5.0   \n",
              "4                                              NaN   \n",
              "\n",
              "   Tingkat Keterbukaan Komunikasi Responden dalam Hubungan  \\\n",
              "0                                                4.0         \n",
              "1                                                5.0         \n",
              "2                                                4.0         \n",
              "3                                                5.0         \n",
              "4                                                NaN         \n",
              "\n",
              "   Respon Teman & Keluarga terhadap Hubungan Responden  \\\n",
              "0                                                5.0     \n",
              "1                                                5.0     \n",
              "2                                                4.0     \n",
              "3                                                4.0     \n",
              "4                                                NaN     \n",
              "\n",
              "   Pengaruh Media Sosial terhadap Hubungan Responden  \\\n",
              "0                                                5.0   \n",
              "1                                                5.0   \n",
              "2                                                4.0   \n",
              "3                                                1.0   \n",
              "4                                                NaN   \n",
              "\n",
              "   Frekuensi Konflik dalam Hubungan Responden  \\\n",
              "0                                         3.0   \n",
              "1                                         3.0   \n",
              "2                                         5.0   \n",
              "3                                         2.0   \n",
              "4                                         NaN   \n",
              "\n",
              "   Penyelesaian Responden & Pasangan terhadap Konflik  \\\n",
              "0                                                4.0    \n",
              "1                                                4.0    \n",
              "2                                                4.0    \n",
              "3                                                5.0    \n",
              "4                                                NaN    \n",
              "\n",
              "  Pengaruh Hubungan terhadap Performa Akademik Responden  \\\n",
              "0                                                 Ya       \n",
              "1                                              Tidak       \n",
              "2                                              Tidak       \n",
              "3                                                 Ya       \n",
              "4                                                NaN       \n",
              "\n",
              "  Perubahan IPK yang Dialami Responden  \\\n",
              "0                                 Naik   \n",
              "1                                  NaN   \n",
              "2                                  NaN   \n",
              "3                                Turun   \n",
              "4                                  NaN   \n",
              "\n",
              "  Pendapat Responden terhadap Hubungan Terakhir  \\\n",
              "0                              Sangat mendukung   \n",
              "1                               Cukup mendukung   \n",
              "2                                        Netral   \n",
              "3                              Sangat mendukung   \n",
              "4                                           NaN   \n",
              "\n",
              "  Media atau Bagaimana Responden Bertemu dengan Pasangan  Jenis Kelamin  \\\n",
              "0                               Di kampus/organisasi                  1   \n",
              "1            Media sosial (Instagram, Twitter, dsb.)                  1   \n",
              "2                                      Melalui teman                  1   \n",
              "3                                      Melalui teman                  1   \n",
              "4                                                NaN                  1   \n",
              "\n",
              "   Fakultas Responden Status Responden Saat Ini  Status Responden Sebelumnya  \n",
              "0                   1                        Ya                            1  \n",
              "1                   1                        Ya                            1  \n",
              "2                   1                        Ya                            1  \n",
              "3                   1                        Ya                            1  \n",
              "4                   1                       NaN                            0  "
            ]
          },
          "execution_count": 19,
          "metadata": {},
          "output_type": "execute_result"
        }
      ],
      "source": [
        "# Menampilkan hasil perubahan\n",
        "df.head()"
      ]
    },
    {
      "cell_type": "markdown",
      "metadata": {
        "id": "mzdfJx8-ChQe"
      },
      "source": [
        "## Memisahkan antara yang Sudah dengan yang Belum Pernah untuk kebutuhan analisis lebih lanjut"
      ]
    },
    {
      "cell_type": "code",
      "execution_count": 20,
      "metadata": {
        "id": "suMNCYxU6sSS"
      },
      "outputs": [],
      "source": [
        "# Memisahkan antara data campuran dan data yang pernah berhubungan\n",
        "df_campur = df\n",
        "df_pernah = df[df['Status Responden Sebelumnya'] == 1]"
      ]
    },
    {
      "cell_type": "code",
      "execution_count": 21,
      "metadata": {
        "id": "1jAPRC2_DAqm"
      },
      "outputs": [
        {
          "data": {
            "text/html": [
              "<div>\n",
              "<style scoped>\n",
              "    .dataframe tbody tr th:only-of-type {\n",
              "        vertical-align: middle;\n",
              "    }\n",
              "\n",
              "    .dataframe tbody tr th {\n",
              "        vertical-align: top;\n",
              "    }\n",
              "\n",
              "    .dataframe thead th {\n",
              "        text-align: right;\n",
              "    }\n",
              "</style>\n",
              "<table border=\"1\" class=\"dataframe\">\n",
              "  <thead>\n",
              "    <tr style=\"text-align: right;\">\n",
              "      <th></th>\n",
              "      <th>Usia Responden</th>\n",
              "      <th>Semester Responden</th>\n",
              "      <th>Jumlah Hubungan Responden</th>\n",
              "      <th>Durasi Rata-rata Hubungan Responden</th>\n",
              "      <th>Jumlah Kencan Responden</th>\n",
              "      <th>Tingkat Kepuasan Responden dalam Hubungan</th>\n",
              "      <th>Tingkat Kekuatan Cinta Responden dalam Hubungan</th>\n",
              "      <th>Tingkat Keterbukaan Komunikasi Responden dalam Hubungan</th>\n",
              "      <th>Respon Teman &amp; Keluarga terhadap Hubungan Responden</th>\n",
              "      <th>Pengaruh Media Sosial terhadap Hubungan Responden</th>\n",
              "      <th>Frekuensi Konflik dalam Hubungan Responden</th>\n",
              "      <th>Penyelesaian Responden &amp; Pasangan terhadap Konflik</th>\n",
              "      <th>Pengaruh Hubungan terhadap Performa Akademik Responden</th>\n",
              "      <th>Perubahan IPK yang Dialami Responden</th>\n",
              "      <th>Pendapat Responden terhadap Hubungan Terakhir</th>\n",
              "      <th>Media atau Bagaimana Responden Bertemu dengan Pasangan</th>\n",
              "      <th>Jenis Kelamin</th>\n",
              "      <th>Fakultas Responden</th>\n",
              "      <th>Status Responden Saat Ini</th>\n",
              "      <th>Status Responden Sebelumnya</th>\n",
              "    </tr>\n",
              "  </thead>\n",
              "  <tbody>\n",
              "    <tr>\n",
              "      <th>0</th>\n",
              "      <td>20</td>\n",
              "      <td>4.0</td>\n",
              "      <td>3.0</td>\n",
              "      <td>12.0</td>\n",
              "      <td>16.0</td>\n",
              "      <td>4.0</td>\n",
              "      <td>5.0</td>\n",
              "      <td>4.0</td>\n",
              "      <td>5.0</td>\n",
              "      <td>5.0</td>\n",
              "      <td>3.0</td>\n",
              "      <td>4.0</td>\n",
              "      <td>Ya</td>\n",
              "      <td>Naik</td>\n",
              "      <td>Sangat mendukung</td>\n",
              "      <td>Di kampus/organisasi</td>\n",
              "      <td>1</td>\n",
              "      <td>1</td>\n",
              "      <td>Ya</td>\n",
              "      <td>1</td>\n",
              "    </tr>\n",
              "    <tr>\n",
              "      <th>1</th>\n",
              "      <td>20</td>\n",
              "      <td>4.0</td>\n",
              "      <td>2.0</td>\n",
              "      <td>12.0</td>\n",
              "      <td>8.0</td>\n",
              "      <td>5.0</td>\n",
              "      <td>5.0</td>\n",
              "      <td>5.0</td>\n",
              "      <td>5.0</td>\n",
              "      <td>5.0</td>\n",
              "      <td>3.0</td>\n",
              "      <td>4.0</td>\n",
              "      <td>Tidak</td>\n",
              "      <td>NaN</td>\n",
              "      <td>Cukup mendukung</td>\n",
              "      <td>Media sosial (Instagram, Twitter, dsb.)</td>\n",
              "      <td>1</td>\n",
              "      <td>1</td>\n",
              "      <td>Ya</td>\n",
              "      <td>1</td>\n",
              "    </tr>\n",
              "    <tr>\n",
              "      <th>2</th>\n",
              "      <td>19</td>\n",
              "      <td>4.0</td>\n",
              "      <td>2.0</td>\n",
              "      <td>48.0</td>\n",
              "      <td>4.0</td>\n",
              "      <td>5.0</td>\n",
              "      <td>5.0</td>\n",
              "      <td>4.0</td>\n",
              "      <td>4.0</td>\n",
              "      <td>4.0</td>\n",
              "      <td>5.0</td>\n",
              "      <td>4.0</td>\n",
              "      <td>Tidak</td>\n",
              "      <td>NaN</td>\n",
              "      <td>Netral</td>\n",
              "      <td>Melalui teman</td>\n",
              "      <td>1</td>\n",
              "      <td>1</td>\n",
              "      <td>Ya</td>\n",
              "      <td>1</td>\n",
              "    </tr>\n",
              "    <tr>\n",
              "      <th>3</th>\n",
              "      <td>19</td>\n",
              "      <td>4.0</td>\n",
              "      <td>3.0</td>\n",
              "      <td>30.0</td>\n",
              "      <td>4.0</td>\n",
              "      <td>5.0</td>\n",
              "      <td>5.0</td>\n",
              "      <td>5.0</td>\n",
              "      <td>4.0</td>\n",
              "      <td>1.0</td>\n",
              "      <td>2.0</td>\n",
              "      <td>5.0</td>\n",
              "      <td>Ya</td>\n",
              "      <td>Turun</td>\n",
              "      <td>Sangat mendukung</td>\n",
              "      <td>Melalui teman</td>\n",
              "      <td>1</td>\n",
              "      <td>1</td>\n",
              "      <td>Ya</td>\n",
              "      <td>1</td>\n",
              "    </tr>\n",
              "    <tr>\n",
              "      <th>5</th>\n",
              "      <td>19</td>\n",
              "      <td>4.0</td>\n",
              "      <td>1.0</td>\n",
              "      <td>8.0</td>\n",
              "      <td>6.0</td>\n",
              "      <td>2.0</td>\n",
              "      <td>2.0</td>\n",
              "      <td>1.0</td>\n",
              "      <td>2.0</td>\n",
              "      <td>4.0</td>\n",
              "      <td>4.0</td>\n",
              "      <td>2.0</td>\n",
              "      <td>Ya</td>\n",
              "      <td>Turun</td>\n",
              "      <td>Sangat mengganggu</td>\n",
              "      <td>sma</td>\n",
              "      <td>0</td>\n",
              "      <td>1</td>\n",
              "      <td>Ya</td>\n",
              "      <td>1</td>\n",
              "    </tr>\n",
              "  </tbody>\n",
              "</table>\n",
              "</div>"
            ],
            "text/plain": [
              "   Usia Responden  Semester Responden  Jumlah Hubungan Responden  \\\n",
              "0              20                 4.0                        3.0   \n",
              "1              20                 4.0                        2.0   \n",
              "2              19                 4.0                        2.0   \n",
              "3              19                 4.0                        3.0   \n",
              "5              19                 4.0                        1.0   \n",
              "\n",
              "   Durasi Rata-rata Hubungan Responden  Jumlah Kencan Responden  \\\n",
              "0                                 12.0                     16.0   \n",
              "1                                 12.0                      8.0   \n",
              "2                                 48.0                      4.0   \n",
              "3                                 30.0                      4.0   \n",
              "5                                  8.0                      6.0   \n",
              "\n",
              "   Tingkat Kepuasan Responden dalam Hubungan  \\\n",
              "0                                        4.0   \n",
              "1                                        5.0   \n",
              "2                                        5.0   \n",
              "3                                        5.0   \n",
              "5                                        2.0   \n",
              "\n",
              "   Tingkat Kekuatan Cinta Responden dalam Hubungan  \\\n",
              "0                                              5.0   \n",
              "1                                              5.0   \n",
              "2                                              5.0   \n",
              "3                                              5.0   \n",
              "5                                              2.0   \n",
              "\n",
              "   Tingkat Keterbukaan Komunikasi Responden dalam Hubungan  \\\n",
              "0                                                4.0         \n",
              "1                                                5.0         \n",
              "2                                                4.0         \n",
              "3                                                5.0         \n",
              "5                                                1.0         \n",
              "\n",
              "   Respon Teman & Keluarga terhadap Hubungan Responden  \\\n",
              "0                                                5.0     \n",
              "1                                                5.0     \n",
              "2                                                4.0     \n",
              "3                                                4.0     \n",
              "5                                                2.0     \n",
              "\n",
              "   Pengaruh Media Sosial terhadap Hubungan Responden  \\\n",
              "0                                                5.0   \n",
              "1                                                5.0   \n",
              "2                                                4.0   \n",
              "3                                                1.0   \n",
              "5                                                4.0   \n",
              "\n",
              "   Frekuensi Konflik dalam Hubungan Responden  \\\n",
              "0                                         3.0   \n",
              "1                                         3.0   \n",
              "2                                         5.0   \n",
              "3                                         2.0   \n",
              "5                                         4.0   \n",
              "\n",
              "   Penyelesaian Responden & Pasangan terhadap Konflik  \\\n",
              "0                                                4.0    \n",
              "1                                                4.0    \n",
              "2                                                4.0    \n",
              "3                                                5.0    \n",
              "5                                                2.0    \n",
              "\n",
              "  Pengaruh Hubungan terhadap Performa Akademik Responden  \\\n",
              "0                                                 Ya       \n",
              "1                                              Tidak       \n",
              "2                                              Tidak       \n",
              "3                                                 Ya       \n",
              "5                                                 Ya       \n",
              "\n",
              "  Perubahan IPK yang Dialami Responden  \\\n",
              "0                                 Naik   \n",
              "1                                  NaN   \n",
              "2                                  NaN   \n",
              "3                                Turun   \n",
              "5                                Turun   \n",
              "\n",
              "  Pendapat Responden terhadap Hubungan Terakhir  \\\n",
              "0                              Sangat mendukung   \n",
              "1                               Cukup mendukung   \n",
              "2                                        Netral   \n",
              "3                              Sangat mendukung   \n",
              "5                             Sangat mengganggu   \n",
              "\n",
              "  Media atau Bagaimana Responden Bertemu dengan Pasangan  Jenis Kelamin  \\\n",
              "0                               Di kampus/organisasi                  1   \n",
              "1            Media sosial (Instagram, Twitter, dsb.)                  1   \n",
              "2                                      Melalui teman                  1   \n",
              "3                                      Melalui teman                  1   \n",
              "5                                                sma                  0   \n",
              "\n",
              "   Fakultas Responden Status Responden Saat Ini  Status Responden Sebelumnya  \n",
              "0                   1                        Ya                            1  \n",
              "1                   1                        Ya                            1  \n",
              "2                   1                        Ya                            1  \n",
              "3                   1                        Ya                            1  \n",
              "5                   1                        Ya                            1  "
            ]
          },
          "execution_count": 21,
          "metadata": {},
          "output_type": "execute_result"
        }
      ],
      "source": [
        "df_pernah.head()"
      ]
    },
    {
      "cell_type": "code",
      "execution_count": 22,
      "metadata": {
        "id": "sBVbwWFQCw17"
      },
      "outputs": [
        {
          "data": {
            "text/plain": [
              "array([1.2e+01, 4.8e+01, 3.0e+01, 8.0e+00, 5.0e+00, 3.0e+00, 2.0e+00,\n",
              "       2.4e+01, 7.0e+00, 6.0e+00, 1.0e+01, 2.0e+01, 1.0e+06, 9.0e+00,\n",
              "       0.0e+00, 1.6e+01, 3.4e+01, 4.0e+00, 1.5e+01, 3.2e+01, 1.8e+01,\n",
              "       2.3e+01, 1.1e+01, 1.0e+00, 7.4e+01, 1.3e+01, 2.5e+01, 1.9e+01,\n",
              "       2.8e+01, 3.1e+01, 2.2e+01, 2.9e+01, 1.7e+01, 1.4e+01, 2.6e+01,\n",
              "       3.5e+01, 3.3e+01, 2.7e+01, 3.6e+01, 2.1e+01])"
            ]
          },
          "execution_count": 22,
          "metadata": {},
          "output_type": "execute_result"
        }
      ],
      "source": [
        "df_pernah['Durasi Rata-rata Hubungan Responden'].unique()"
      ]
    },
    {
      "cell_type": "code",
      "execution_count": 23,
      "metadata": {
        "id": "MO297iX08eHN"
      },
      "outputs": [
        {
          "name": "stderr",
          "output_type": "stream",
          "text": [
            "C:\\Users\\user id\\AppData\\Roaming\\Python\\Python37\\site-packages\\ipykernel_launcher.py:2: SettingWithCopyWarning: \n",
            "A value is trying to be set on a copy of a slice from a DataFrame.\n",
            "Try using .loc[row_indexer,col_indexer] = value instead\n",
            "\n",
            "See the caveats in the documentation: https://pandas.pydata.org/pandas-docs/stable/user_guide/indexing.html#returning-a-view-versus-a-copy\n",
            "  \n"
          ]
        }
      ],
      "source": [
        "# Mengubah nilai yang tidak masuk akal sebagai nilai null\n",
        "df_pernah['Durasi Rata-rata Hubungan Responden'] = df_pernah['Durasi Rata-rata Hubungan Responden'].replace(1000000, np.nan)"
      ]
    },
    {
      "cell_type": "markdown",
      "metadata": {
        "id": "XQGCLkWFDIPZ"
      },
      "source": [
        "###Imputasi NA"
      ]
    },
    {
      "cell_type": "code",
      "execution_count": 24,
      "metadata": {
        "id": "tWqDUthZ7gMH"
      },
      "outputs": [
        {
          "data": {
            "text/plain": [
              "Usia Responden                                               0\n",
              "Semester Responden                                           0\n",
              "Jumlah Hubungan Responden                                    0\n",
              "Durasi Rata-rata Hubungan Responden                          1\n",
              "Jumlah Kencan Responden                                      0\n",
              "Tingkat Kepuasan Responden dalam Hubungan                    0\n",
              "Tingkat Kekuatan Cinta Responden dalam Hubungan              0\n",
              "Tingkat Keterbukaan Komunikasi Responden dalam Hubungan      0\n",
              "Respon Teman & Keluarga terhadap Hubungan Responden          0\n",
              "Pengaruh Media Sosial terhadap Hubungan Responden            0\n",
              "Frekuensi Konflik dalam Hubungan Responden                   0\n",
              "Penyelesaian Responden & Pasangan terhadap Konflik           0\n",
              "Pengaruh Hubungan terhadap Performa Akademik Responden       0\n",
              "Perubahan IPK yang Dialami Responden                       204\n",
              "Pendapat Responden terhadap Hubungan Terakhir                0\n",
              "Media atau Bagaimana Responden Bertemu dengan Pasangan       0\n",
              "Jenis Kelamin                                                0\n",
              "Fakultas Responden                                           0\n",
              "Status Responden Saat Ini                                    0\n",
              "Status Responden Sebelumnya                                  0\n",
              "dtype: int64"
            ]
          },
          "execution_count": 24,
          "metadata": {},
          "output_type": "execute_result"
        }
      ],
      "source": [
        "df_pernah.isnull().sum()"
      ]
    },
    {
      "cell_type": "code",
      "execution_count": 25,
      "metadata": {
        "id": "UdNrUEMt7wKv"
      },
      "outputs": [
        {
          "name": "stderr",
          "output_type": "stream",
          "text": [
            "c:\\Users\\user id\\AppData\\Local\\Programs\\Python\\Python37\\lib\\site-packages\\pandas\\core\\generic.py:6392: SettingWithCopyWarning: \n",
            "A value is trying to be set on a copy of a slice from a DataFrame\n",
            "\n",
            "See the caveats in the documentation: https://pandas.pydata.org/pandas-docs/stable/user_guide/indexing.html#returning-a-view-versus-a-copy\n",
            "  return self._update_inplace(result)\n"
          ]
        }
      ],
      "source": [
        "# Imputasi nilai kosong pada variabel numerik dengan menggunakan mean\n",
        "df_pernah.fillna(df_pernah.select_dtypes(include=['number']).mean(), inplace=True)"
      ]
    },
    {
      "cell_type": "code",
      "execution_count": 26,
      "metadata": {
        "id": "mj1pUxiw8sxB"
      },
      "outputs": [],
      "source": [
        "# Mengisi nilai kosong pada kolom 'Perubahan IPK yang Dialami Responden' dengan 'Tidak Berpengaruh'\n",
        "df_pernah['Perubahan IPK yang Dialami Responden'].fillna('Tidak Berpengaruh', inplace=True)"
      ]
    },
    {
      "cell_type": "code",
      "execution_count": 27,
      "metadata": {
        "id": "LMZcHzSK8BSW"
      },
      "outputs": [
        {
          "data": {
            "text/plain": [
              "Usia Responden                                             0\n",
              "Semester Responden                                         0\n",
              "Jumlah Hubungan Responden                                  0\n",
              "Durasi Rata-rata Hubungan Responden                        0\n",
              "Jumlah Kencan Responden                                    0\n",
              "Tingkat Kepuasan Responden dalam Hubungan                  0\n",
              "Tingkat Kekuatan Cinta Responden dalam Hubungan            0\n",
              "Tingkat Keterbukaan Komunikasi Responden dalam Hubungan    0\n",
              "Respon Teman & Keluarga terhadap Hubungan Responden        0\n",
              "Pengaruh Media Sosial terhadap Hubungan Responden          0\n",
              "Frekuensi Konflik dalam Hubungan Responden                 0\n",
              "Penyelesaian Responden & Pasangan terhadap Konflik         0\n",
              "Pengaruh Hubungan terhadap Performa Akademik Responden     0\n",
              "Perubahan IPK yang Dialami Responden                       0\n",
              "Pendapat Responden terhadap Hubungan Terakhir              0\n",
              "Media atau Bagaimana Responden Bertemu dengan Pasangan     0\n",
              "Jenis Kelamin                                              0\n",
              "Fakultas Responden                                         0\n",
              "Status Responden Saat Ini                                  0\n",
              "Status Responden Sebelumnya                                0\n",
              "dtype: int64"
            ]
          },
          "execution_count": 27,
          "metadata": {},
          "output_type": "execute_result"
        }
      ],
      "source": [
        "#Cek setelah NA\n",
        "df_pernah.isnull().sum()"
      ]
    },
    {
      "cell_type": "markdown",
      "metadata": {
        "id": "9bDyZwblDQnZ"
      },
      "source": [
        "### Mengubah (Encode) Nilai"
      ]
    },
    {
      "cell_type": "code",
      "execution_count": 28,
      "metadata": {
        "id": "woFzFYeaDfx2"
      },
      "outputs": [
        {
          "data": {
            "text/html": [
              "<div>\n",
              "<style scoped>\n",
              "    .dataframe tbody tr th:only-of-type {\n",
              "        vertical-align: middle;\n",
              "    }\n",
              "\n",
              "    .dataframe tbody tr th {\n",
              "        vertical-align: top;\n",
              "    }\n",
              "\n",
              "    .dataframe thead th {\n",
              "        text-align: right;\n",
              "    }\n",
              "</style>\n",
              "<table border=\"1\" class=\"dataframe\">\n",
              "  <thead>\n",
              "    <tr style=\"text-align: right;\">\n",
              "      <th></th>\n",
              "      <th>Usia Responden</th>\n",
              "      <th>Semester Responden</th>\n",
              "      <th>Jumlah Hubungan Responden</th>\n",
              "      <th>Durasi Rata-rata Hubungan Responden</th>\n",
              "      <th>Jumlah Kencan Responden</th>\n",
              "      <th>Tingkat Kepuasan Responden dalam Hubungan</th>\n",
              "      <th>Tingkat Kekuatan Cinta Responden dalam Hubungan</th>\n",
              "      <th>Tingkat Keterbukaan Komunikasi Responden dalam Hubungan</th>\n",
              "      <th>Respon Teman &amp; Keluarga terhadap Hubungan Responden</th>\n",
              "      <th>Pengaruh Media Sosial terhadap Hubungan Responden</th>\n",
              "      <th>Frekuensi Konflik dalam Hubungan Responden</th>\n",
              "      <th>Penyelesaian Responden &amp; Pasangan terhadap Konflik</th>\n",
              "      <th>Pengaruh Hubungan terhadap Performa Akademik Responden</th>\n",
              "      <th>Perubahan IPK yang Dialami Responden</th>\n",
              "      <th>Pendapat Responden terhadap Hubungan Terakhir</th>\n",
              "      <th>Media atau Bagaimana Responden Bertemu dengan Pasangan</th>\n",
              "      <th>Jenis Kelamin</th>\n",
              "      <th>Fakultas Responden</th>\n",
              "      <th>Status Responden Saat Ini</th>\n",
              "      <th>Status Responden Sebelumnya</th>\n",
              "    </tr>\n",
              "  </thead>\n",
              "  <tbody>\n",
              "    <tr>\n",
              "      <th>0</th>\n",
              "      <td>20</td>\n",
              "      <td>4.0</td>\n",
              "      <td>3.0</td>\n",
              "      <td>12.0</td>\n",
              "      <td>16.0</td>\n",
              "      <td>4.0</td>\n",
              "      <td>5.0</td>\n",
              "      <td>4.0</td>\n",
              "      <td>5.0</td>\n",
              "      <td>5.0</td>\n",
              "      <td>3.0</td>\n",
              "      <td>4.0</td>\n",
              "      <td>Ya</td>\n",
              "      <td>Naik</td>\n",
              "      <td>Sangat mendukung</td>\n",
              "      <td>Di kampus/organisasi</td>\n",
              "      <td>1</td>\n",
              "      <td>1</td>\n",
              "      <td>Ya</td>\n",
              "      <td>1</td>\n",
              "    </tr>\n",
              "    <tr>\n",
              "      <th>1</th>\n",
              "      <td>20</td>\n",
              "      <td>4.0</td>\n",
              "      <td>2.0</td>\n",
              "      <td>12.0</td>\n",
              "      <td>8.0</td>\n",
              "      <td>5.0</td>\n",
              "      <td>5.0</td>\n",
              "      <td>5.0</td>\n",
              "      <td>5.0</td>\n",
              "      <td>5.0</td>\n",
              "      <td>3.0</td>\n",
              "      <td>4.0</td>\n",
              "      <td>Tidak</td>\n",
              "      <td>Tidak Berpengaruh</td>\n",
              "      <td>Cukup mendukung</td>\n",
              "      <td>Media sosial (Instagram, Twitter, dsb.)</td>\n",
              "      <td>1</td>\n",
              "      <td>1</td>\n",
              "      <td>Ya</td>\n",
              "      <td>1</td>\n",
              "    </tr>\n",
              "    <tr>\n",
              "      <th>2</th>\n",
              "      <td>19</td>\n",
              "      <td>4.0</td>\n",
              "      <td>2.0</td>\n",
              "      <td>48.0</td>\n",
              "      <td>4.0</td>\n",
              "      <td>5.0</td>\n",
              "      <td>5.0</td>\n",
              "      <td>4.0</td>\n",
              "      <td>4.0</td>\n",
              "      <td>4.0</td>\n",
              "      <td>5.0</td>\n",
              "      <td>4.0</td>\n",
              "      <td>Tidak</td>\n",
              "      <td>Tidak Berpengaruh</td>\n",
              "      <td>Netral</td>\n",
              "      <td>Melalui teman</td>\n",
              "      <td>1</td>\n",
              "      <td>1</td>\n",
              "      <td>Ya</td>\n",
              "      <td>1</td>\n",
              "    </tr>\n",
              "    <tr>\n",
              "      <th>3</th>\n",
              "      <td>19</td>\n",
              "      <td>4.0</td>\n",
              "      <td>3.0</td>\n",
              "      <td>30.0</td>\n",
              "      <td>4.0</td>\n",
              "      <td>5.0</td>\n",
              "      <td>5.0</td>\n",
              "      <td>5.0</td>\n",
              "      <td>4.0</td>\n",
              "      <td>1.0</td>\n",
              "      <td>2.0</td>\n",
              "      <td>5.0</td>\n",
              "      <td>Ya</td>\n",
              "      <td>Turun</td>\n",
              "      <td>Sangat mendukung</td>\n",
              "      <td>Melalui teman</td>\n",
              "      <td>1</td>\n",
              "      <td>1</td>\n",
              "      <td>Ya</td>\n",
              "      <td>1</td>\n",
              "    </tr>\n",
              "    <tr>\n",
              "      <th>5</th>\n",
              "      <td>19</td>\n",
              "      <td>4.0</td>\n",
              "      <td>1.0</td>\n",
              "      <td>8.0</td>\n",
              "      <td>6.0</td>\n",
              "      <td>2.0</td>\n",
              "      <td>2.0</td>\n",
              "      <td>1.0</td>\n",
              "      <td>2.0</td>\n",
              "      <td>4.0</td>\n",
              "      <td>4.0</td>\n",
              "      <td>2.0</td>\n",
              "      <td>Ya</td>\n",
              "      <td>Turun</td>\n",
              "      <td>Sangat mengganggu</td>\n",
              "      <td>sma</td>\n",
              "      <td>0</td>\n",
              "      <td>1</td>\n",
              "      <td>Ya</td>\n",
              "      <td>1</td>\n",
              "    </tr>\n",
              "  </tbody>\n",
              "</table>\n",
              "</div>"
            ],
            "text/plain": [
              "   Usia Responden  Semester Responden  Jumlah Hubungan Responden  \\\n",
              "0              20                 4.0                        3.0   \n",
              "1              20                 4.0                        2.0   \n",
              "2              19                 4.0                        2.0   \n",
              "3              19                 4.0                        3.0   \n",
              "5              19                 4.0                        1.0   \n",
              "\n",
              "   Durasi Rata-rata Hubungan Responden  Jumlah Kencan Responden  \\\n",
              "0                                 12.0                     16.0   \n",
              "1                                 12.0                      8.0   \n",
              "2                                 48.0                      4.0   \n",
              "3                                 30.0                      4.0   \n",
              "5                                  8.0                      6.0   \n",
              "\n",
              "   Tingkat Kepuasan Responden dalam Hubungan  \\\n",
              "0                                        4.0   \n",
              "1                                        5.0   \n",
              "2                                        5.0   \n",
              "3                                        5.0   \n",
              "5                                        2.0   \n",
              "\n",
              "   Tingkat Kekuatan Cinta Responden dalam Hubungan  \\\n",
              "0                                              5.0   \n",
              "1                                              5.0   \n",
              "2                                              5.0   \n",
              "3                                              5.0   \n",
              "5                                              2.0   \n",
              "\n",
              "   Tingkat Keterbukaan Komunikasi Responden dalam Hubungan  \\\n",
              "0                                                4.0         \n",
              "1                                                5.0         \n",
              "2                                                4.0         \n",
              "3                                                5.0         \n",
              "5                                                1.0         \n",
              "\n",
              "   Respon Teman & Keluarga terhadap Hubungan Responden  \\\n",
              "0                                                5.0     \n",
              "1                                                5.0     \n",
              "2                                                4.0     \n",
              "3                                                4.0     \n",
              "5                                                2.0     \n",
              "\n",
              "   Pengaruh Media Sosial terhadap Hubungan Responden  \\\n",
              "0                                                5.0   \n",
              "1                                                5.0   \n",
              "2                                                4.0   \n",
              "3                                                1.0   \n",
              "5                                                4.0   \n",
              "\n",
              "   Frekuensi Konflik dalam Hubungan Responden  \\\n",
              "0                                         3.0   \n",
              "1                                         3.0   \n",
              "2                                         5.0   \n",
              "3                                         2.0   \n",
              "5                                         4.0   \n",
              "\n",
              "   Penyelesaian Responden & Pasangan terhadap Konflik  \\\n",
              "0                                                4.0    \n",
              "1                                                4.0    \n",
              "2                                                4.0    \n",
              "3                                                5.0    \n",
              "5                                                2.0    \n",
              "\n",
              "  Pengaruh Hubungan terhadap Performa Akademik Responden  \\\n",
              "0                                                 Ya       \n",
              "1                                              Tidak       \n",
              "2                                              Tidak       \n",
              "3                                                 Ya       \n",
              "5                                                 Ya       \n",
              "\n",
              "  Perubahan IPK yang Dialami Responden  \\\n",
              "0                                 Naik   \n",
              "1                    Tidak Berpengaruh   \n",
              "2                    Tidak Berpengaruh   \n",
              "3                                Turun   \n",
              "5                                Turun   \n",
              "\n",
              "  Pendapat Responden terhadap Hubungan Terakhir  \\\n",
              "0                              Sangat mendukung   \n",
              "1                               Cukup mendukung   \n",
              "2                                        Netral   \n",
              "3                              Sangat mendukung   \n",
              "5                             Sangat mengganggu   \n",
              "\n",
              "  Media atau Bagaimana Responden Bertemu dengan Pasangan  Jenis Kelamin  \\\n",
              "0                               Di kampus/organisasi                  1   \n",
              "1            Media sosial (Instagram, Twitter, dsb.)                  1   \n",
              "2                                      Melalui teman                  1   \n",
              "3                                      Melalui teman                  1   \n",
              "5                                                sma                  0   \n",
              "\n",
              "   Fakultas Responden Status Responden Saat Ini  Status Responden Sebelumnya  \n",
              "0                   1                        Ya                            1  \n",
              "1                   1                        Ya                            1  \n",
              "2                   1                        Ya                            1  \n",
              "3                   1                        Ya                            1  \n",
              "5                   1                        Ya                            1  "
            ]
          },
          "execution_count": 28,
          "metadata": {},
          "output_type": "execute_result"
        }
      ],
      "source": [
        "df_pernah.head()"
      ]
    },
    {
      "cell_type": "code",
      "execution_count": 29,
      "metadata": {
        "id": "12cjkZFv9n-e"
      },
      "outputs": [
        {
          "data": {
            "text/plain": [
              "array(['Ya', 'Tidak'], dtype=object)"
            ]
          },
          "execution_count": 29,
          "metadata": {},
          "output_type": "execute_result"
        }
      ],
      "source": [
        "# Mengubah nilai-nilai data pada kolom 'Pengaruh Hubungan terhadap Performa Akademik Responden' menjadi numerik\n",
        "df_pernah['Pengaruh Hubungan terhadap Performa Akademik Responden'].unique()"
      ]
    },
    {
      "cell_type": "code",
      "execution_count": 30,
      "metadata": {
        "id": "NWuEuAYL9qWC"
      },
      "outputs": [
        {
          "name": "stderr",
          "output_type": "stream",
          "text": [
            "C:\\Users\\user id\\AppData\\Roaming\\Python\\Python37\\site-packages\\ipykernel_launcher.py:6: SettingWithCopyWarning: \n",
            "A value is trying to be set on a copy of a slice from a DataFrame.\n",
            "Try using .loc[row_indexer,col_indexer] = value instead\n",
            "\n",
            "See the caveats in the documentation: https://pandas.pydata.org/pandas-docs/stable/user_guide/indexing.html#returning-a-view-versus-a-copy\n",
            "  \n"
          ]
        }
      ],
      "source": [
        "# Mengubah nilai-nilai data pada kolom 'Pengaruh Hubungan terhadap Performa Akademik Responden'\n",
        "mapping = {\n",
        "    'Ya': 1,\n",
        "    'Tidak': 0\n",
        "}\n",
        "df_pernah['Pengaruh Hubungan terhadap Performa Akademik Responden'] = df_pernah['Pengaruh Hubungan terhadap Performa Akademik Responden'].map(mapping)"
      ]
    },
    {
      "cell_type": "code",
      "execution_count": 31,
      "metadata": {
        "id": "C4lyZbx8DmDT"
      },
      "outputs": [
        {
          "data": {
            "text/plain": [
              "array(['Naik', 'Tidak Berpengaruh', 'Turun'], dtype=object)"
            ]
          },
          "execution_count": 31,
          "metadata": {},
          "output_type": "execute_result"
        }
      ],
      "source": [
        "# Mengubah nilai-nilai data pada kolom 'Perubahan IPK yang Dialami Responden' menjadi numerik\n",
        "df_pernah['Perubahan IPK yang Dialami Responden'].unique()"
      ]
    },
    {
      "cell_type": "code",
      "execution_count": 32,
      "metadata": {
        "id": "Qit1TyFBDtgW"
      },
      "outputs": [
        {
          "name": "stderr",
          "output_type": "stream",
          "text": [
            "C:\\Users\\user id\\AppData\\Roaming\\Python\\Python37\\site-packages\\ipykernel_launcher.py:7: SettingWithCopyWarning: \n",
            "A value is trying to be set on a copy of a slice from a DataFrame.\n",
            "Try using .loc[row_indexer,col_indexer] = value instead\n",
            "\n",
            "See the caveats in the documentation: https://pandas.pydata.org/pandas-docs/stable/user_guide/indexing.html#returning-a-view-versus-a-copy\n",
            "  import sys\n"
          ]
        }
      ],
      "source": [
        "# Mengubah nilai-nilai data pada kolom 'Perubahan IPK yang Dialami Responden'\n",
        "mapping = {\n",
        "    'Naik': 1,\n",
        "    'Tidak Berpengaruh': 0,\n",
        "    'Turun': -1\n",
        "}\n",
        "df_pernah['Perubahan IPK yang Dialami Responden'] = df_pernah['Perubahan IPK yang Dialami Responden'].map(mapping)"
      ]
    },
    {
      "cell_type": "code",
      "execution_count": 33,
      "metadata": {
        "id": "ZSP8LGYHDyN9"
      },
      "outputs": [
        {
          "data": {
            "text/plain": [
              "array(['Sangat mendukung', 'Cukup mendukung', 'Netral',\n",
              "       'Sangat mengganggu', 'Cukup mengganggu'], dtype=object)"
            ]
          },
          "execution_count": 33,
          "metadata": {},
          "output_type": "execute_result"
        }
      ],
      "source": [
        "# Mengubah nilai-nilai data pada kolom 'Pendapat Responden terhadap Hubungan Terakhir' menjadi numerik\n",
        "df_pernah['Pendapat Responden terhadap Hubungan Terakhir'].unique()"
      ]
    },
    {
      "cell_type": "code",
      "execution_count": 34,
      "metadata": {
        "id": "8y_UdwNsD2j1"
      },
      "outputs": [
        {
          "name": "stderr",
          "output_type": "stream",
          "text": [
            "C:\\Users\\user id\\AppData\\Roaming\\Python\\Python37\\site-packages\\ipykernel_launcher.py:9: SettingWithCopyWarning: \n",
            "A value is trying to be set on a copy of a slice from a DataFrame.\n",
            "Try using .loc[row_indexer,col_indexer] = value instead\n",
            "\n",
            "See the caveats in the documentation: https://pandas.pydata.org/pandas-docs/stable/user_guide/indexing.html#returning-a-view-versus-a-copy\n",
            "  if __name__ == \"__main__\":\n"
          ]
        }
      ],
      "source": [
        "# Mengubah nilai-nilai data pada kolom 'Pendapat Responden terhadap Hubungan Terakhir'\n",
        "mapping = {\n",
        "    'Sangat mendukung': 5,\n",
        "    'Cukup mendukung': 4,\n",
        "    'Netral': 3,\n",
        "    'Sangat mengganggu': 2,\n",
        "    'Cukup mengganggu': 1\n",
        "}\n",
        "df_pernah['Pendapat Responden terhadap Hubungan Terakhir'] = df_pernah['Pendapat Responden terhadap Hubungan Terakhir'].map(mapping)"
      ]
    },
    {
      "cell_type": "code",
      "execution_count": 35,
      "metadata": {
        "id": "5J-8qH0VD6td"
      },
      "outputs": [
        {
          "data": {
            "text/plain": [
              "array(['Di kampus/organisasi', 'Media sosial (Instagram, Twitter, dsb.)',\n",
              "       'Melalui teman', nan, 'sma',\n",
              "       'Aplikasi kencan (Tinder, Bumble, dll)', 'Sekolah', 'Badmin',\n",
              "       'Game online', 'SMA', 'sekolah SMA', 'Gereja', 'Di SMA', 'sekolah',\n",
              "       'teman sekolah'], dtype=object)"
            ]
          },
          "execution_count": 35,
          "metadata": {},
          "output_type": "execute_result"
        }
      ],
      "source": [
        "# Mengubah nilai-nilai data pada kolom 'Media atau Bagaimana Responden Bertemu dengan Pasangan' menjadi numerik\n",
        "df['Media atau Bagaimana Responden Bertemu dengan Pasangan'].unique()"
      ]
    },
    {
      "cell_type": "code",
      "execution_count": 36,
      "metadata": {
        "id": "CWneuNoVD9zp"
      },
      "outputs": [
        {
          "name": "stderr",
          "output_type": "stream",
          "text": [
            "C:\\Users\\user id\\AppData\\Roaming\\Python\\Python37\\site-packages\\ipykernel_launcher.py:19: SettingWithCopyWarning: \n",
            "A value is trying to be set on a copy of a slice from a DataFrame.\n",
            "Try using .loc[row_indexer,col_indexer] = value instead\n",
            "\n",
            "See the caveats in the documentation: https://pandas.pydata.org/pandas-docs/stable/user_guide/indexing.html#returning-a-view-versus-a-copy\n"
          ]
        }
      ],
      "source": [
        "# Mengubah nilai-nilai data pada kolom 'Media atau Bagaimana Responden Bertemu dengan Pasangan'\n",
        "mapping = {\n",
        "    'Di kampus/organisasi': 0,\n",
        "    'Media sosial (Instagram, Twitter, dsb.)': 1,\n",
        "    'Melalui teman': 2,\n",
        "    'Badmin ': 2,\n",
        "    'sma': 3,\n",
        "    'Sekolah ': 3,\n",
        "    'Sekolah': 3,\n",
        "    'sekolah': 3,\n",
        "    'SMA': 3,\n",
        "    'sekolah SMA': 3,\n",
        "    'Di SMA': 3,\n",
        "    'teman sekolah': 4,\n",
        "    'Gereja': 5,\n",
        "    'Game online': 6,\n",
        "    'Aplikasi kencan (Tinder, Bumble, dll)': 7\n",
        "}\n",
        "df_pernah['Media atau Bagaimana Responden Bertemu dengan Pasangan'] = df_pernah['Media atau Bagaimana Responden Bertemu dengan Pasangan'].map(mapping)"
      ]
    },
    {
      "cell_type": "code",
      "execution_count": 37,
      "metadata": {
        "id": "dGvI_6IODYdc"
      },
      "outputs": [
        {
          "data": {
            "text/plain": [
              "array(['Ya', 'Tidak'], dtype=object)"
            ]
          },
          "execution_count": 37,
          "metadata": {},
          "output_type": "execute_result"
        }
      ],
      "source": [
        "# Mengubah nilai-nilai data pada kolom 'Status Responden Saat Ini' menjadi numerik\n",
        "df_pernah['Status Responden Saat Ini'].unique()"
      ]
    },
    {
      "cell_type": "code",
      "execution_count": 38,
      "metadata": {
        "id": "aeOLOs6ZE7g7"
      },
      "outputs": [
        {
          "name": "stderr",
          "output_type": "stream",
          "text": [
            "C:\\Users\\user id\\AppData\\Roaming\\Python\\Python37\\site-packages\\ipykernel_launcher.py:6: SettingWithCopyWarning: \n",
            "A value is trying to be set on a copy of a slice from a DataFrame.\n",
            "Try using .loc[row_indexer,col_indexer] = value instead\n",
            "\n",
            "See the caveats in the documentation: https://pandas.pydata.org/pandas-docs/stable/user_guide/indexing.html#returning-a-view-versus-a-copy\n",
            "  \n"
          ]
        }
      ],
      "source": [
        "# Mengubah nilai-nilai data pada kolom 'Status Responden Saat Ini'\n",
        "mapping = {\n",
        "    'Ya': 1,\n",
        "    'Tidak': 0\n",
        "}\n",
        "df_pernah['Status Responden Saat Ini'] = df_pernah['Status Responden Saat Ini'].map(mapping)"
      ]
    },
    {
      "cell_type": "code",
      "execution_count": 39,
      "metadata": {
        "id": "-KfxyqJ1FBHq"
      },
      "outputs": [
        {
          "data": {
            "text/html": [
              "<div>\n",
              "<style scoped>\n",
              "    .dataframe tbody tr th:only-of-type {\n",
              "        vertical-align: middle;\n",
              "    }\n",
              "\n",
              "    .dataframe tbody tr th {\n",
              "        vertical-align: top;\n",
              "    }\n",
              "\n",
              "    .dataframe thead th {\n",
              "        text-align: right;\n",
              "    }\n",
              "</style>\n",
              "<table border=\"1\" class=\"dataframe\">\n",
              "  <thead>\n",
              "    <tr style=\"text-align: right;\">\n",
              "      <th></th>\n",
              "      <th>Usia Responden</th>\n",
              "      <th>Semester Responden</th>\n",
              "      <th>Jumlah Hubungan Responden</th>\n",
              "      <th>Durasi Rata-rata Hubungan Responden</th>\n",
              "      <th>Jumlah Kencan Responden</th>\n",
              "      <th>Tingkat Kepuasan Responden dalam Hubungan</th>\n",
              "      <th>Tingkat Kekuatan Cinta Responden dalam Hubungan</th>\n",
              "      <th>Tingkat Keterbukaan Komunikasi Responden dalam Hubungan</th>\n",
              "      <th>Respon Teman &amp; Keluarga terhadap Hubungan Responden</th>\n",
              "      <th>Pengaruh Media Sosial terhadap Hubungan Responden</th>\n",
              "      <th>Frekuensi Konflik dalam Hubungan Responden</th>\n",
              "      <th>Penyelesaian Responden &amp; Pasangan terhadap Konflik</th>\n",
              "      <th>Pengaruh Hubungan terhadap Performa Akademik Responden</th>\n",
              "      <th>Perubahan IPK yang Dialami Responden</th>\n",
              "      <th>Pendapat Responden terhadap Hubungan Terakhir</th>\n",
              "      <th>Media atau Bagaimana Responden Bertemu dengan Pasangan</th>\n",
              "      <th>Jenis Kelamin</th>\n",
              "      <th>Fakultas Responden</th>\n",
              "      <th>Status Responden Saat Ini</th>\n",
              "      <th>Status Responden Sebelumnya</th>\n",
              "    </tr>\n",
              "  </thead>\n",
              "  <tbody>\n",
              "    <tr>\n",
              "      <th>0</th>\n",
              "      <td>20</td>\n",
              "      <td>4.0</td>\n",
              "      <td>3.0</td>\n",
              "      <td>12.0</td>\n",
              "      <td>16.0</td>\n",
              "      <td>4.0</td>\n",
              "      <td>5.0</td>\n",
              "      <td>4.0</td>\n",
              "      <td>5.0</td>\n",
              "      <td>5.0</td>\n",
              "      <td>3.0</td>\n",
              "      <td>4.0</td>\n",
              "      <td>1</td>\n",
              "      <td>1</td>\n",
              "      <td>5</td>\n",
              "      <td>0.0</td>\n",
              "      <td>1</td>\n",
              "      <td>1</td>\n",
              "      <td>1</td>\n",
              "      <td>1</td>\n",
              "    </tr>\n",
              "    <tr>\n",
              "      <th>1</th>\n",
              "      <td>20</td>\n",
              "      <td>4.0</td>\n",
              "      <td>2.0</td>\n",
              "      <td>12.0</td>\n",
              "      <td>8.0</td>\n",
              "      <td>5.0</td>\n",
              "      <td>5.0</td>\n",
              "      <td>5.0</td>\n",
              "      <td>5.0</td>\n",
              "      <td>5.0</td>\n",
              "      <td>3.0</td>\n",
              "      <td>4.0</td>\n",
              "      <td>0</td>\n",
              "      <td>0</td>\n",
              "      <td>4</td>\n",
              "      <td>1.0</td>\n",
              "      <td>1</td>\n",
              "      <td>1</td>\n",
              "      <td>1</td>\n",
              "      <td>1</td>\n",
              "    </tr>\n",
              "    <tr>\n",
              "      <th>2</th>\n",
              "      <td>19</td>\n",
              "      <td>4.0</td>\n",
              "      <td>2.0</td>\n",
              "      <td>48.0</td>\n",
              "      <td>4.0</td>\n",
              "      <td>5.0</td>\n",
              "      <td>5.0</td>\n",
              "      <td>4.0</td>\n",
              "      <td>4.0</td>\n",
              "      <td>4.0</td>\n",
              "      <td>5.0</td>\n",
              "      <td>4.0</td>\n",
              "      <td>0</td>\n",
              "      <td>0</td>\n",
              "      <td>3</td>\n",
              "      <td>2.0</td>\n",
              "      <td>1</td>\n",
              "      <td>1</td>\n",
              "      <td>1</td>\n",
              "      <td>1</td>\n",
              "    </tr>\n",
              "    <tr>\n",
              "      <th>3</th>\n",
              "      <td>19</td>\n",
              "      <td>4.0</td>\n",
              "      <td>3.0</td>\n",
              "      <td>30.0</td>\n",
              "      <td>4.0</td>\n",
              "      <td>5.0</td>\n",
              "      <td>5.0</td>\n",
              "      <td>5.0</td>\n",
              "      <td>4.0</td>\n",
              "      <td>1.0</td>\n",
              "      <td>2.0</td>\n",
              "      <td>5.0</td>\n",
              "      <td>1</td>\n",
              "      <td>-1</td>\n",
              "      <td>5</td>\n",
              "      <td>2.0</td>\n",
              "      <td>1</td>\n",
              "      <td>1</td>\n",
              "      <td>1</td>\n",
              "      <td>1</td>\n",
              "    </tr>\n",
              "    <tr>\n",
              "      <th>5</th>\n",
              "      <td>19</td>\n",
              "      <td>4.0</td>\n",
              "      <td>1.0</td>\n",
              "      <td>8.0</td>\n",
              "      <td>6.0</td>\n",
              "      <td>2.0</td>\n",
              "      <td>2.0</td>\n",
              "      <td>1.0</td>\n",
              "      <td>2.0</td>\n",
              "      <td>4.0</td>\n",
              "      <td>4.0</td>\n",
              "      <td>2.0</td>\n",
              "      <td>1</td>\n",
              "      <td>-1</td>\n",
              "      <td>2</td>\n",
              "      <td>3.0</td>\n",
              "      <td>0</td>\n",
              "      <td>1</td>\n",
              "      <td>1</td>\n",
              "      <td>1</td>\n",
              "    </tr>\n",
              "  </tbody>\n",
              "</table>\n",
              "</div>"
            ],
            "text/plain": [
              "   Usia Responden  Semester Responden  Jumlah Hubungan Responden  \\\n",
              "0              20                 4.0                        3.0   \n",
              "1              20                 4.0                        2.0   \n",
              "2              19                 4.0                        2.0   \n",
              "3              19                 4.0                        3.0   \n",
              "5              19                 4.0                        1.0   \n",
              "\n",
              "   Durasi Rata-rata Hubungan Responden  Jumlah Kencan Responden  \\\n",
              "0                                 12.0                     16.0   \n",
              "1                                 12.0                      8.0   \n",
              "2                                 48.0                      4.0   \n",
              "3                                 30.0                      4.0   \n",
              "5                                  8.0                      6.0   \n",
              "\n",
              "   Tingkat Kepuasan Responden dalam Hubungan  \\\n",
              "0                                        4.0   \n",
              "1                                        5.0   \n",
              "2                                        5.0   \n",
              "3                                        5.0   \n",
              "5                                        2.0   \n",
              "\n",
              "   Tingkat Kekuatan Cinta Responden dalam Hubungan  \\\n",
              "0                                              5.0   \n",
              "1                                              5.0   \n",
              "2                                              5.0   \n",
              "3                                              5.0   \n",
              "5                                              2.0   \n",
              "\n",
              "   Tingkat Keterbukaan Komunikasi Responden dalam Hubungan  \\\n",
              "0                                                4.0         \n",
              "1                                                5.0         \n",
              "2                                                4.0         \n",
              "3                                                5.0         \n",
              "5                                                1.0         \n",
              "\n",
              "   Respon Teman & Keluarga terhadap Hubungan Responden  \\\n",
              "0                                                5.0     \n",
              "1                                                5.0     \n",
              "2                                                4.0     \n",
              "3                                                4.0     \n",
              "5                                                2.0     \n",
              "\n",
              "   Pengaruh Media Sosial terhadap Hubungan Responden  \\\n",
              "0                                                5.0   \n",
              "1                                                5.0   \n",
              "2                                                4.0   \n",
              "3                                                1.0   \n",
              "5                                                4.0   \n",
              "\n",
              "   Frekuensi Konflik dalam Hubungan Responden  \\\n",
              "0                                         3.0   \n",
              "1                                         3.0   \n",
              "2                                         5.0   \n",
              "3                                         2.0   \n",
              "5                                         4.0   \n",
              "\n",
              "   Penyelesaian Responden & Pasangan terhadap Konflik  \\\n",
              "0                                                4.0    \n",
              "1                                                4.0    \n",
              "2                                                4.0    \n",
              "3                                                5.0    \n",
              "5                                                2.0    \n",
              "\n",
              "   Pengaruh Hubungan terhadap Performa Akademik Responden  \\\n",
              "0                                                  1        \n",
              "1                                                  0        \n",
              "2                                                  0        \n",
              "3                                                  1        \n",
              "5                                                  1        \n",
              "\n",
              "   Perubahan IPK yang Dialami Responden  \\\n",
              "0                                     1   \n",
              "1                                     0   \n",
              "2                                     0   \n",
              "3                                    -1   \n",
              "5                                    -1   \n",
              "\n",
              "   Pendapat Responden terhadap Hubungan Terakhir  \\\n",
              "0                                              5   \n",
              "1                                              4   \n",
              "2                                              3   \n",
              "3                                              5   \n",
              "5                                              2   \n",
              "\n",
              "   Media atau Bagaimana Responden Bertemu dengan Pasangan  Jenis Kelamin  \\\n",
              "0                                                0.0                   1   \n",
              "1                                                1.0                   1   \n",
              "2                                                2.0                   1   \n",
              "3                                                2.0                   1   \n",
              "5                                                3.0                   0   \n",
              "\n",
              "   Fakultas Responden  Status Responden Saat Ini  Status Responden Sebelumnya  \n",
              "0                   1                          1                            1  \n",
              "1                   1                          1                            1  \n",
              "2                   1                          1                            1  \n",
              "3                   1                          1                            1  \n",
              "5                   1                          1                            1  "
            ]
          },
          "execution_count": 39,
          "metadata": {},
          "output_type": "execute_result"
        }
      ],
      "source": [
        "# Menampilkan hasil perubahan\n",
        "df_pernah.head()"
      ]
    },
    {
      "cell_type": "code",
      "execution_count": 40,
      "metadata": {
        "id": "SdVFTYqlFLjm"
      },
      "outputs": [],
      "source": [
        "# Menyimpan data yang telah diproses\n",
        "df_pernah.to_csv('DataAfter_3.csv', index=False)\n",
        "df_campur.to_csv('DataAfter_3 (campur).csv', index=False)"
      ]
    },
    {
      "cell_type": "markdown",
      "metadata": {
        "id": "TmGvVA9rFu37"
      },
      "source": [
        "#5. Measurement Quality"
      ]
    },
    {
      "cell_type": "code",
      "execution_count": 41,
      "metadata": {
        "id": "SUAesLA-l_Uo"
      },
      "outputs": [
        {
          "name": "stdout",
          "output_type": "stream",
          "text": [
            "Requirement already satisfied: pingouin in c:\\users\\user id\\appdata\\local\\programs\\python\\python37\\lib\\site-packages (0.5.3)\n",
            "Requirement already satisfied: numpy>=1.19 in c:\\users\\user id\\appdata\\local\\programs\\python\\python37\\lib\\site-packages (from pingouin) (1.21.6)\n",
            "Requirement already satisfied: scipy>=1.7 in c:\\users\\user id\\appdata\\local\\programs\\python\\python37\\lib\\site-packages (from pingouin) (1.7.3)\n",
            "Requirement already satisfied: pandas>=1.0 in c:\\users\\user id\\appdata\\local\\programs\\python\\python37\\lib\\site-packages (from pingouin) (1.3.5)\n",
            "Requirement already satisfied: matplotlib>=3.0.2 in c:\\users\\user id\\appdata\\local\\programs\\python\\python37\\lib\\site-packages (from pingouin) (3.1.0)\n",
            "Requirement already satisfied: seaborn>=0.11 in c:\\users\\user id\\appdata\\local\\programs\\python\\python37\\lib\\site-packages (from pingouin) (0.12.2)\n",
            "Requirement already satisfied: statsmodels>=0.13 in c:\\users\\user id\\appdata\\local\\programs\\python\\python37\\lib\\site-packages (from pingouin) (0.13.5)\n",
            "Requirement already satisfied: scikit-learn in c:\\users\\user id\\appdata\\local\\programs\\python\\python37\\lib\\site-packages (from pingouin) (1.0.2)\n",
            "Requirement already satisfied: pandas-flavor>=0.2.0 in c:\\users\\user id\\appdata\\local\\programs\\python\\python37\\lib\\site-packages (from pingouin) (0.7.0)\n",
            "Requirement already satisfied: outdated in c:\\users\\user id\\appdata\\local\\programs\\python\\python37\\lib\\site-packages (from pingouin) (0.2.2)\n",
            "Requirement already satisfied: tabulate in c:\\users\\user id\\appdata\\local\\programs\\python\\python37\\lib\\site-packages (from pingouin) (0.9.0)\n",
            "Requirement already satisfied: cycler>=0.10 in c:\\users\\user id\\appdata\\local\\programs\\python\\python37\\lib\\site-packages (from matplotlib>=3.0.2->pingouin) (0.10.0)\n",
            "Requirement already satisfied: kiwisolver>=1.0.1 in c:\\users\\user id\\appdata\\local\\programs\\python\\python37\\lib\\site-packages (from matplotlib>=3.0.2->pingouin) (1.1.0)\n",
            "Requirement already satisfied: pyparsing!=2.0.4,!=2.1.2,!=2.1.6,>=2.0.1 in c:\\users\\user id\\appdata\\local\\programs\\python\\python37\\lib\\site-packages (from matplotlib>=3.0.2->pingouin) (2.4.0)\n",
            "Requirement already satisfied: python-dateutil>=2.1 in c:\\users\\user id\\appdata\\roaming\\python\\python37\\site-packages (from matplotlib>=3.0.2->pingouin) (2.9.0.post0)\n",
            "Requirement already satisfied: pytz>=2017.3 in c:\\users\\user id\\appdata\\local\\programs\\python\\python37\\lib\\site-packages (from pandas>=1.0->pingouin) (2019.1)\n",
            "Requirement already satisfied: xarray in c:\\users\\user id\\appdata\\local\\programs\\python\\python37\\lib\\site-packages (from pandas-flavor>=0.2.0->pingouin) (0.20.2)\n",
            "Requirement already satisfied: typing_extensions in c:\\users\\user id\\appdata\\local\\programs\\python\\python37\\lib\\site-packages (from seaborn>=0.11->pingouin) (4.7.1)\n",
            "Requirement already satisfied: patsy>=0.5.2 in c:\\users\\user id\\appdata\\local\\programs\\python\\python37\\lib\\site-packages (from statsmodels>=0.13->pingouin) (1.0.1)\n",
            "Requirement already satisfied: packaging>=21.3 in c:\\users\\user id\\appdata\\roaming\\python\\python37\\site-packages (from statsmodels>=0.13->pingouin) (24.0)\n",
            "Requirement already satisfied: setuptools>=44 in c:\\users\\user id\\appdata\\local\\programs\\python\\python37\\lib\\site-packages (from outdated->pingouin) (68.0.0)\n",
            "Requirement already satisfied: littleutils in c:\\users\\user id\\appdata\\local\\programs\\python\\python37\\lib\\site-packages (from outdated->pingouin) (0.2.2)\n",
            "Requirement already satisfied: requests in c:\\users\\user id\\appdata\\local\\programs\\python\\python37\\lib\\site-packages (from outdated->pingouin) (2.31.0)\n",
            "Requirement already satisfied: joblib>=0.11 in c:\\users\\user id\\appdata\\local\\programs\\python\\python37\\lib\\site-packages (from scikit-learn->pingouin) (1.3.2)\n",
            "Requirement already satisfied: threadpoolctl>=2.0.0 in c:\\users\\user id\\appdata\\local\\programs\\python\\python37\\lib\\site-packages (from scikit-learn->pingouin) (3.1.0)\n",
            "Requirement already satisfied: six in c:\\users\\user id\\appdata\\local\\programs\\python\\python37\\lib\\site-packages (from cycler>=0.10->matplotlib>=3.0.2->pingouin) (1.12.0)\n",
            "Requirement already satisfied: charset-normalizer<4,>=2 in c:\\users\\user id\\appdata\\local\\programs\\python\\python37\\lib\\site-packages (from requests->outdated->pingouin) (3.4.2)\n",
            "Requirement already satisfied: idna<4,>=2.5 in c:\\users\\user id\\appdata\\local\\programs\\python\\python37\\lib\\site-packages (from requests->outdated->pingouin) (3.10)\n",
            "Requirement already satisfied: urllib3<3,>=1.21.1 in c:\\users\\user id\\appdata\\local\\programs\\python\\python37\\lib\\site-packages (from requests->outdated->pingouin) (2.0.7)\n",
            "Requirement already satisfied: certifi>=2017.4.17 in c:\\users\\user id\\appdata\\local\\programs\\python\\python37\\lib\\site-packages (from requests->outdated->pingouin) (2019.6.16)\n",
            "Requirement already satisfied: importlib-metadata in c:\\users\\user id\\appdata\\local\\programs\\python\\python37\\lib\\site-packages (from xarray->pandas-flavor>=0.2.0->pingouin) (6.7.0)\n",
            "Requirement already satisfied: zipp>=0.5 in c:\\users\\user id\\appdata\\local\\programs\\python\\python37\\lib\\site-packages (from importlib-metadata->xarray->pandas-flavor>=0.2.0->pingouin) (3.15.0)\n",
            "Note: you may need to restart the kernel to use updated packages.\n"
          ]
        }
      ],
      "source": [
        "pip install pingouin"
      ]
    },
    {
      "cell_type": "code",
      "execution_count": 42,
      "metadata": {
        "id": "zqxdK0s3F16S"
      },
      "outputs": [
        {
          "name": "stderr",
          "output_type": "stream",
          "text": [
            "c:\\Users\\user id\\AppData\\Local\\Programs\\Python\\Python37\\lib\\site-packages\\outdated\\utils.py:18: OutdatedPackageWarning: The package pingouin is out of date. Your version is 0.5.3, the latest is 0.5.5.\n",
            "Set the environment variable OUTDATED_IGNORE=1 to disable these warnings.\n",
            "  **kwargs\n"
          ]
        }
      ],
      "source": [
        "import pandas as pd\n",
        "import pingouin as pg  # install dengan: pip install pingouin\n",
        "\n",
        "# Pilih 5 variabel utama\n",
        "mydata = df_pernah[[\n",
        "    'Tingkat Kepuasan Responden dalam Hubungan',\n",
        "    'Tingkat Kekuatan Cinta Responden dalam Hubungan',\n",
        "    'Tingkat Keterbukaan Komunikasi Responden dalam Hubungan',\n",
        "    'Respon Teman & Keluarga terhadap Hubungan Responden',\n",
        "    'Penyelesaian Responden & Pasangan terhadap Konflik'\n",
        "]]"
      ]
    },
    {
      "cell_type": "code",
      "execution_count": 43,
      "metadata": {
        "id": "6Oi2nyVPGAwC"
      },
      "outputs": [
        {
          "name": "stdout",
          "output_type": "stream",
          "text": [
            "=== Corrected Item-Total Correlation (CITC) ===\n",
            "                                                        CITC\n",
            "Tingkat Kepuasan Responden dalam Hubungan           0.271693\n",
            "Tingkat Kekuatan Cinta Responden dalam Hubungan     0.243738\n",
            "Tingkat Keterbukaan Komunikasi Responden dalam ...  0.282583\n",
            "Respon Teman & Keluarga terhadap Hubungan Respo...  0.175340\n",
            "Penyelesaian Responden & Pasangan terhadap Konflik  0.261661\n"
          ]
        }
      ],
      "source": [
        "# ===============================\n",
        "# Uji VALIDITAS: Corrected Item-Total Correlation\n",
        "# ===============================\n",
        "validity = {}\n",
        "for col in mydata.columns:\n",
        "    total_score = mydata.drop(columns=[col]).sum(axis=1)\n",
        "    correlation = mydata[col].corr(total_score)\n",
        "    validity[col] = correlation\n",
        "\n",
        "# Tampilkan hasil uji validitas\n",
        "validity_result = pd.DataFrame.from_dict(validity, orient='index', columns=['CITC'])\n",
        "print(\"=== Corrected Item-Total Correlation (CITC) ===\")\n",
        "print(validity_result)"
      ]
    },
    {
      "cell_type": "code",
      "execution_count": 44,
      "metadata": {
        "id": "-oRB3066GYLA"
      },
      "outputs": [
        {
          "name": "stdout",
          "output_type": "stream",
          "text": [
            "=== Cronbach's Alpha ===\n",
            "Cronbach Alpha: 0.4646\n"
          ]
        }
      ],
      "source": [
        "# ===============================\n",
        "# Uji RELIABILITAS: Cronbach's Alpha\n",
        "# ===============================\n",
        "cb_alpha = pg.cronbach_alpha(data=mydata)\n",
        "print(\"=== Cronbach's Alpha ===\")\n",
        "print(f\"Cronbach Alpha: {cb_alpha[0]:.4f}\")"
      ]
    },
    {
      "cell_type": "markdown",
      "metadata": {
        "id": "eocHWd8gHhnb"
      },
      "source": [
        "#6. PRELIMINARY ANALYSIS"
      ]
    },
    {
      "cell_type": "markdown",
      "metadata": {
        "id": "Xyb6uN9rHn45"
      },
      "source": [
        "##Perhitungan Mean dengan Confidence Interval 95% untuk Variabel Numerik"
      ]
    },
    {
      "cell_type": "code",
      "execution_count": 45,
      "metadata": {
        "id": "ysCMRjOBHraL"
      },
      "outputs": [
        {
          "name": "stdout",
          "output_type": "stream",
          "text": [
            "=== Mean dan Confidence Interval 95% ===\n",
            "                                             Variable       Mean  \\\n",
            "0                                      Usia Responden  19.885714   \n",
            "1                                  Semester Responden   3.971429   \n",
            "2                           Jumlah Hubungan Responden   2.897143   \n",
            "3                 Durasi Rata-rata Hubungan Responden  17.687679   \n",
            "4                             Jumlah Kencan Responden   2.702857   \n",
            "5           Tingkat Kepuasan Responden dalam Hubungan   3.494286   \n",
            "6     Tingkat Kekuatan Cinta Responden dalam Hubungan   3.580000   \n",
            "7   Tingkat Keterbukaan Komunikasi Responden dalam...   3.482857   \n",
            "8   Respon Teman & Keluarga terhadap Hubungan Resp...   3.485714   \n",
            "9   Pengaruh Media Sosial terhadap Hubungan Responden   3.382857   \n",
            "10         Frekuensi Konflik dalam Hubungan Responden   3.311429   \n",
            "11  Penyelesaian Responden & Pasangan terhadap Kon...   3.620000   \n",
            "12  Pengaruh Hubungan terhadap Performa Akademik R...   0.417143   \n",
            "13               Perubahan IPK yang Dialami Responden   0.034286   \n",
            "14      Pendapat Responden terhadap Hubungan Terakhir   3.142857   \n",
            "15  Media atau Bagaimana Responden Bertemu dengan ...   2.232092   \n",
            "16                                      Jenis Kelamin   0.508571   \n",
            "17                                 Fakultas Responden   2.868571   \n",
            "18                          Status Responden Saat Ini   0.591429   \n",
            "19                        Status Responden Sebelumnya   1.000000   \n",
            "\n",
            "    95% CI Lower  95% CI Upper  \n",
            "0      19.755743     20.015686  \n",
            "1       3.845631      4.097226  \n",
            "2       2.738543      3.055742  \n",
            "3      16.585809     18.789549  \n",
            "4       2.478669      2.927045  \n",
            "5       3.377934      3.610637  \n",
            "6       3.461255      3.698745  \n",
            "7       3.363561      3.602153  \n",
            "8       3.364309      3.607119  \n",
            "9       3.253708      3.512006  \n",
            "10      3.189292      3.433565  \n",
            "11      3.500034      3.739966  \n",
            "12      0.365231      0.469055  \n",
            "13     -0.033615      0.102186  \n",
            "14      2.997537      3.288178  \n",
            "15      1.958961      2.505223  \n",
            "16      0.455939      0.561203  \n",
            "17      2.598809      3.138333  \n",
            "18      0.539676      0.643181  \n",
            "19           NaN           NaN  \n"
          ]
        },
        {
          "name": "stderr",
          "output_type": "stream",
          "text": [
            "c:\\Users\\user id\\AppData\\Local\\Programs\\Python\\Python37\\lib\\site-packages\\scipy\\stats\\_distn_infrastructure.py:2128: RuntimeWarning: invalid value encountered in multiply\n",
            "  lower_bound = _a * scale + loc\n",
            "c:\\Users\\user id\\AppData\\Local\\Programs\\Python\\Python37\\lib\\site-packages\\scipy\\stats\\_distn_infrastructure.py:2129: RuntimeWarning: invalid value encountered in multiply\n",
            "  upper_bound = _b * scale + loc\n"
          ]
        }
      ],
      "source": [
        "import pandas as pd\n",
        "import numpy as np\n",
        "from scipy import stats\n",
        "\n",
        "# Ambil kolom numerik\n",
        "numerical_cols = df_pernah.select_dtypes(include=['float64', 'int64']).columns\n",
        "\n",
        "# Hitung mean dan confidence interval\n",
        "ci_result = []\n",
        "\n",
        "for col in numerical_cols:\n",
        "    data = df_pernah[col].dropna()\n",
        "    mean = data.mean()\n",
        "    sem = stats.sem(data)  # standard error of the mean\n",
        "    ci = stats.t.interval(0.95, len(data)-1, loc=mean, scale=sem)\n",
        "    ci_result.append({\n",
        "        'Variable': col,\n",
        "        'Mean': mean,\n",
        "        '95% CI Lower': ci[0],\n",
        "        '95% CI Upper': ci[1]\n",
        "    })\n",
        "\n",
        "ci_df = pd.DataFrame(ci_result)\n",
        "print(\"=== Mean dan Confidence Interval 95% ===\")\n",
        "print(ci_df)"
      ]
    },
    {
      "cell_type": "markdown",
      "metadata": {
        "id": "tu_fQTOXIOB9"
      },
      "source": [
        "##Visualisasi"
      ]
    },
    {
      "cell_type": "code",
      "execution_count": 46,
      "metadata": {
        "id": "nKWDNA1GHurb"
      },
      "outputs": [],
      "source": [
        "import matplotlib.pyplot as plt\n",
        "import seaborn as sns\n",
        "\n",
        "def plot_boxplot(df_pernah, col):\n",
        "    plt.figure(figsize=(10, 5))\n",
        "    sns.boxplot(data=df, x=col, color='skyblue')\n",
        "    plt.title(f'Boxplot - {col}')\n",
        "    plt.tight_layout()\n",
        "    plt.show()"
      ]
    },
    {
      "cell_type": "code",
      "execution_count": 47,
      "metadata": {
        "id": "duXFQZVtsUfK"
      },
      "outputs": [
        {
          "data": {
            "image/png": "[encoded data removed]",
            "text/plain": [
              "<Figure size 1000x500 with 1 Axes>"
            ]
          },
          "metadata": {},
          "output_type": "display_data"
        }
      ],
      "source": [
        "plot_boxplot(df_pernah, 'Usia Responden')"
      ]
    },
    {
      "cell_type": "markdown",
      "metadata": {
        "id": "jRp5tePEskMQ"
      },
      "source": [
        "Nilai dari IQR berada di antara 19 dan 21 dimana responded berada didalam rentang usia remaja. Outlier tidak terlihat dalam boxplot ini.\n",
        "\n"
      ]
    },
    {
      "cell_type": "code",
      "execution_count": 48,
      "metadata": {
        "id": "fpfhwW4TszKp"
      },
      "outputs": [
        {
          "data": {
            "image/png": "[encoded data removed]",
            "text/plain": [
              "<Figure size 1000x500 with 1 Axes>"
            ]
          },
          "metadata": {},
          "output_type": "display_data"
        }
      ],
      "source": [
        "plot_boxplot(df_pernah, 'Jumlah Hubungan Responden')"
      ]
    },
    {
      "cell_type": "markdown",
      "metadata": {
        "id": "wSRLGwWptLDs"
      },
      "source": [
        "Mayoritas responden berada di jumlah 1-6, yang menunjukan bahwa sebagian besar orang memiliki jumlah hubungan dalam rentang tersebut. Garis tengah yang menunjukan median berada di nilai 3. Terdapat 2 outlier yang berada di nilai 8 dan 10, yang berarti hubungan 8 dan 10 kali dianggap tidak wajar. IQR berada di rentang 2 sampai 4."
      ]
    },
    {
      "cell_type": "code",
      "execution_count": 49,
      "metadata": {
        "id": "15eA3vVRxXDX"
      },
      "outputs": [
        {
          "data": {
            "image/png": "[encoded data removed]",
            "text/plain": [
              "<Figure size 1000x500 with 1 Axes>"
            ]
          },
          "metadata": {},
          "output_type": "display_data"
        }
      ],
      "source": [
        "plot_boxplot(df_pernah, 'Durasi Rata-rata Hubungan Responden')"
      ]
    },
    {
      "cell_type": "code",
      "execution_count": 50,
      "metadata": {
        "id": "IdTGwQE_yY80"
      },
      "outputs": [
        {
          "data": {
            "image/png": "[encoded data removed]",
            "text/plain": [
              "<Figure size 1000x500 with 1 Axes>"
            ]
          },
          "metadata": {},
          "output_type": "display_data"
        }
      ],
      "source": [
        "plot_boxplot(df_pernah, 'Jumlah Kencan Responden')"
      ]
    },
    {
      "cell_type": "markdown",
      "metadata": {
        "id": "gum8xk6vyfEo"
      },
      "source": [
        "Variable 'Jumlah Kencan Responden' memiliki nilai outlier yang cukup banyak, kebanyakan berada di nilai 7.5 keatas. Nilai nilai ini dianggap tidak wajar. Mayoritas responden pernah berkencan di antara 1 sampai 4 kali"
      ]
    },
    {
      "cell_type": "markdown",
      "metadata": {
        "id": "dn4kTwawx5X5"
      },
      "source": [
        "Durasi rata-rata dari responden adalah 9 sampai 25, dan ada outlier yang berada di nilai yang lebih dari 70"
      ]
    },
    {
      "cell_type": "markdown",
      "metadata": {
        "id": "LJ4Qy9PLT1zr"
      },
      "source": [
        "# Function to make Pie Plot"
      ]
    },
    {
      "cell_type": "code",
      "execution_count": 51,
      "metadata": {
        "id": "t1iyP1UlS4QQ"
      },
      "outputs": [],
      "source": [
        "import matplotlib.pyplot as plt\n",
        "import pandas as pd\n",
        "\n",
        "def plot_pie_from_column(df, column, title='Pie Chart', colors=None, autopct='%1.1f%%'):\n",
        "    value_counts = df[column].value_counts()\n",
        "    labels = value_counts.index\n",
        "    sizes = value_counts.values\n",
        "\n",
        "    plt.figure(figsize=(6,6))\n",
        "    plt.pie(sizes, labels=labels, colors=colors, autopct=autopct, startangle=90)\n",
        "    plt.title(title)\n",
        "    plt.axis('equal')\n",
        "    plt.show()\n"
      ]
    },
    {
      "cell_type": "code",
      "execution_count": 52,
      "metadata": {
        "id": "EDu02dP0UNkK"
      },
      "outputs": [
        {
          "data": {
            "image/png": "[encoded data removed]",
            "text/plain": [
              "<Figure size 600x600 with 1 Axes>"
            ]
          },
          "metadata": {},
          "output_type": "display_data"
        }
      ],
      "source": [
        "plot_pie_from_column(df_pernah, 'Semester Responden', title='Pie Chart Semester Responden')"
      ]
    },
    {
      "cell_type": "markdown",
      "metadata": {
        "id": "sgeqlBpooxxd"
      },
      "source": [
        "Mayoritas responden kami sedang berada di semester 4, sisanya berada pada semester 2 sebesar 18.6% dan semester 6 sebesar 17.1%"
      ]
    },
    {
      "cell_type": "code",
      "execution_count": 53,
      "metadata": {
        "colab": {
          "background_save": true
        },
        "id": "YCNJH56mU-gs",
        "outputId": "ab7a7479-a08e-4bc6-cb02-b162be7e275b"
      },
      "outputs": [
        {
          "data": {
            "image/png": "[encoded data removed]",
            "text/plain": [
              "<Figure size 600x600 with 1 Axes>"
            ]
          },
          "metadata": {},
          "output_type": "display_data"
        }
      ],
      "source": [
        "plot_pie_from_column(df_pernah, 'Pengaruh Hubungan terhadap Performa Akademik Responden', title='Pengaruh Hubungan terhadap Performa Akademik Responden')"
      ]
    },
    {
      "cell_type": "markdown",
      "metadata": {
        "id": "39fpzWVLo13t"
      },
      "source": [
        "Mayoritas hubungan responden tidak memengaruhi performa akademik dengan besar 58.3%, sedangkan sisanya sebesar 41.7% merasa bahwa hubungannya memengaruhi performa akademik"
      ]
    },
    {
      "cell_type": "code",
      "execution_count": 54,
      "metadata": {
        "colab": {
          "background_save": true
        },
        "id": "cDgByjZBU-YC",
        "outputId": "3a6737a6-fe1d-4122-9fbc-c5e9943ddfe2"
      },
      "outputs": [
        {
          "data": {
            "image/png": "[encoded data removed]",
            "text/plain": [
              "<Figure size 600x600 with 1 Axes>"
            ]
          },
          "metadata": {},
          "output_type": "display_data"
        }
      ],
      "source": [
        "plot_pie_from_column(df_pernah, 'Perubahan IPK yang Dialami Responden', title='Perubahan IPK yang Dialami Responden')"
      ]
    },
    {
      "cell_type": "markdown",
      "metadata": {
        "id": "cV55Agrao4xO"
      },
      "source": [
        "Berdasarkan hasil, mayoritas responden tidak merasakan terjadinya perubahan IPK, sedangkan kurang dari 40% mengalaminya, dengan jumlah 22.6% mengalami kenaikan dan 19.1% mengalami penurunan"
      ]
    },
    {
      "cell_type": "code",
      "execution_count": 55,
      "metadata": {
        "colab": {
          "background_save": true
        },
        "id": "5hMIZDPUU-GR",
        "outputId": "51c7602c-6d2e-4590-fb12-18b40bff2953"
      },
      "outputs": [
        {
          "data": {
            "image/png": "[encoded data removed]",
            "text/plain": [
              "<Figure size 600x600 with 1 Axes>"
            ]
          },
          "metadata": {},
          "output_type": "display_data"
        }
      ],
      "source": [
        "plot_pie_from_column(df_pernah, 'Media atau Bagaimana Responden Bertemu dengan Pasangan', title='Media atau Bagaimana Responden Bertemu dengan Pasangan')"
      ]
    },
    {
      "cell_type": "markdown",
      "metadata": {
        "id": "-lPIvcC1q_yI"
      },
      "source": [
        "Dari Pie Chart ini, dapat kami ketahui bahwa mayoritas responden kami bertemu dengan pasangannya saat berasa di Kampus / Organisasi dengan jumlah hampir mencapai 33%, 25.1% melalui teman, 20.6% melalui aplikasi kencan seperti Tinder, Bumble, etc. 18.6% melalui media sosial. Sisanya hampir kurang dari 5% menggunakan media lain, diluar pilihan peneliti, seperti SMA, Game Online, Hobi, Tempat Ibadah, etc."
      ]
    },
    {
      "cell_type": "code",
      "execution_count": 56,
      "metadata": {
        "colab": {
          "background_save": true
        },
        "id": "q-UQeLplU9-N",
        "outputId": "179cc3f3-6ee7-469d-863f-e8e144dc0eec"
      },
      "outputs": [
        {
          "data": {
            "image/png": "[encoded data removed]",
            "text/plain": [
              "<Figure size 600x600 with 1 Axes>"
            ]
          },
          "metadata": {},
          "output_type": "display_data"
        }
      ],
      "source": [
        "plot_pie_from_column(df_pernah, 'Jenis Kelamin', title='Jenis Kelamin')"
      ]
    },
    {
      "cell_type": "markdown",
      "metadata": {
        "id": "cNaYk_mSpPH3"
      },
      "source": [
        "Responden kami di dominasi dengan Laki - Laki sebanyak 50.9% dan perempuan sebanyak 49.1%"
      ]
    },
    {
      "cell_type": "code",
      "execution_count": 57,
      "metadata": {
        "colab": {
          "background_save": true
        },
        "id": "_WjWvVkxU91J",
        "outputId": "bf913420-d4c0-47d6-c36d-784f760489f5"
      },
      "outputs": [
        {
          "data": {
            "image/png": "[encoded data removed]",
            "text/plain": [
              "<Figure size 600x600 with 1 Axes>"
            ]
          },
          "metadata": {},
          "output_type": "display_data"
        }
      ],
      "source": [
        "plot_pie_from_column(df_pernah, 'Fakultas Responden', title='Fakultas Responden')"
      ]
    },
    {
      "cell_type": "markdown",
      "metadata": {
        "id": "MeyZyu0DpKt5"
      },
      "source": [
        "Mayoritas responden kami berasal dari fakultas SoCS dengan jumlah sebesar 56.3%, dilanjutkan dengan School of Design dengan jumlah sebesar 9.7% dan School of Information System serta School of Accounting sebesar 7.4%\n"
      ]
    },
    {
      "cell_type": "code",
      "execution_count": 58,
      "metadata": {
        "colab": {
          "background_save": true
        },
        "id": "b0puyOmqU9tZ",
        "outputId": "e0f8892a-c5b0-4f75-87f3-f10312e3a191"
      },
      "outputs": [
        {
          "data": {
            "image/png": "[encoded data removed]",
            "text/plain": [
              "<Figure size 600x600 with 1 Axes>"
            ]
          },
          "metadata": {},
          "output_type": "display_data"
        }
      ],
      "source": [
        "plot_pie_from_column(df_pernah, 'Status Responden Saat Ini', title='Status Responden Saat Ini')"
      ]
    },
    {
      "cell_type": "markdown",
      "metadata": {
        "id": "-q9maC4lZs_I"
      },
      "source": [
        "Dalam Pie Chart ini, dapat dilihat bahwa mayoritas responden kami sedang dalam hubungan romantis dengan jumlah hampir mencapai 60%, sedangkan sisanya sebanyak 40.9% sedang tidak dalam hubungan romantis"
      ]
    },
    {
      "cell_type": "code",
      "execution_count": 59,
      "metadata": {
        "colab": {
          "background_save": true
        },
        "id": "63TPBwOMU9j0",
        "outputId": "291366b4-3d28-409c-9dd4-dc5f2b93498b"
      },
      "outputs": [
        {
          "data": {
            "image/png": "[encoded data removed]",
            "text/plain": [
              "<Figure size 600x600 with 1 Axes>"
            ]
          },
          "metadata": {},
          "output_type": "display_data"
        }
      ],
      "source": [
        "plot_pie_from_column(df_pernah, 'Status Responden Sebelumnya', title='Status Responden Sebelumnya')"
      ]
    },
    {
      "cell_type": "markdown",
      "metadata": {
        "id": "y4KBnKuFXUqW"
      },
      "source": [
        "Dari seluruh responden yang didapatkan, disimpulkan bahwa responden sudah pernah berada dalam hubungan romantis yakni pacaran maupun HTS"
      ]
    },
    {
      "cell_type": "markdown",
      "metadata": {
        "id": "iqEM5OmHYykO"
      },
      "source": [
        "# Function untuk stacked barchart (skala likert)"
      ]
    },
    {
      "cell_type": "code",
      "execution_count": 60,
      "metadata": {
        "colab": {
          "background_save": true
        },
        "id": "Id0CpcztY9mx",
        "outputId": "8a1decdb-49a4-4ec2-9c28-5deeb6c526ba"
      },
      "outputs": [
        {
          "data": {
            "image/png": "[encoded data removed]",
            "text/plain": [
              "<Figure size 1200x420 with 1 Axes>"
            ]
          },
          "metadata": {},
          "output_type": "display_data"
        }
      ],
      "source": [
        "import pandas as pd\n",
        "import matplotlib.pyplot as plt\n",
        "\n",
        "import pandas as pd\n",
        "import matplotlib.pyplot as plt\n",
        "\n",
        "def plot_likert_stacked_bar(df, likert_columns, categories_order, category_labels, title='Distribusi Skala Likert'):\n",
        "    \"\"\"\n",
        "    Membuat horizontal stacked bar chart dengan label Likert dan persentase.\n",
        "\n",
        "    Parameters:\n",
        "    - df: DataFrame\n",
        "    - likert_columns: list of columns (pertanyaan-pertanyaan Likert)\n",
        "    - categories_order: list of numeric Likert codes (misal: [1.0, 2.0, 3.0, 4.0, 5.0])\n",
        "    - category_labels: label teks untuk legenda (panjangnya sama dengan categories_order)\n",
        "    - title: judul chart\n",
        "    \"\"\"\n",
        "    likert_data = pd.DataFrame()\n",
        "\n",
        "    for col in likert_columns:\n",
        "        counts = df[col].value_counts(normalize=True).reindex(categories_order, fill_value=0)\n",
        "        likert_data[col] = counts\n",
        "\n",
        "    likert_data = likert_data.T  # Transpose agar pertanyaan jadi baris\n",
        "\n",
        "    # Plot\n",
        "    fig, ax = plt.subplots(figsize=(12, len(likert_columns) * 0.6))\n",
        "    left = [0] * len(likert_data)\n",
        "\n",
        "    for idx, cat in enumerate(categories_order):\n",
        "        heights = likert_data[cat]\n",
        "        bars = ax.barh(likert_data.index, heights, left=left, label=category_labels[idx])\n",
        "\n",
        "        # Tambahkan persentase pada masing-masing segmen\n",
        "        for bar in bars:\n",
        "            width = bar.get_width()\n",
        "            if width > 0.03:  # tampilkan label jika >3%\n",
        "                ax.text(bar.get_x() + width / 2, bar.get_y() + bar.get_height() / 2,\n",
        "                        f'{width*100:.1f}%', ha='center', va='center', fontsize=9, color='black')\n",
        "\n",
        "        # Update posisi \"left\" untuk bar berikutnya\n",
        "        left = [i + j for i, j in zip(left, heights)]\n",
        "\n",
        "    ax.set_title(title)\n",
        "    ax.set_xlabel('Proporsi')\n",
        "    ax.set_ylabel('Pertanyaan')\n",
        "    ax.legend(title='Kategori Jawaban', bbox_to_anchor=(1.05, 1), loc='upper left')\n",
        "    plt.tight_layout()\n",
        "    plt.show()\n",
        "\n",
        "\n",
        "likert_columns = [\n",
        "    'Tingkat Kepuasan Responden dalam Hubungan',\n",
        "    'Tingkat Kekuatan Cinta Responden dalam Hubungan',\n",
        "    'Tingkat Keterbukaan Komunikasi Responden dalam Hubungan',\n",
        "    'Respon Teman & Keluarga terhadap Hubungan Responden',\n",
        "    'Pengaruh Media Sosial terhadap Hubungan Responden',\n",
        "    'Frekuensi Konflik dalam Hubungan Responden',\n",
        "    'Penyelesaian Responden & Pasangan terhadap Konflik'\n",
        "]\n",
        "\n",
        "categories_order = [1.0, 2.0, 3.0, 4.0, 5.0]\n",
        "category_labels = ['Sangat Tidak Setuju', 'Tidak Setuju', 'Netral', 'Setuju', 'Sangat Setuju']\n",
        "\n",
        "plot_likert_stacked_bar(df_pernah, likert_columns, categories_order, category_labels)\n",
        "\n"
      ]
    },
    {
      "cell_type": "markdown",
      "metadata": {
        "id": "uUnw61OarQsy"
      },
      "source": [
        "Penyelesaian Konflik oleh Responden & Pasangan\n",
        "Mayoritas responden menyatakan setuju atau sangat setuju bahwa mereka mampu menyelesaikan konflik dengan baik (sekitar 54.5%), menunjukkan kemampuan penyelesaian konflik yang relatif tinggi.\n",
        "\n",
        "Frekuensi Konflik dalam Hubungan\n",
        "Jawaban tersebar merata, namun sebagian besar netral atau tidak setuju bahwa konflik sering terjadi, mengindikasikan bahwa konflik tidak terlalu sering terjadi dalam hubungan responden.\n",
        "\n",
        "Pengaruh Media Sosial terhadap Hubungan\n",
        "Cukup banyak responden netral atau tidak setuju bahwa media sosial berpengaruh pada hubungan mereka. Artinya, sebagian besar mungkin tidak terlalu terpengaruh oleh media sosial dalam menjalin hubungan.\n",
        "\n",
        "Dukungan Teman & Keluarga\n",
        "Lebih dari setengah responden merasa mendapatkan dukungan dari orang terdekat mereka (sekitar 50% setuju atau sangat setuju), yang menjadi faktor positif dalam hubungan mereka.\n",
        "\n",
        "Keterbukaan Komunikasi\n",
        "Tingkat keterbukaan komunikasi cukup baik, dengan lebih dari 50% responden setuju atau sangat setuju, menandakan komunikasi terbuka dengan pasangan mereka.\n",
        "\n",
        "Kekuatan Cinta dalam Hubungan\n",
        "Hampir seimbang antara yang setuju dan sangat setuju (~54% total), dengan sedikit yang netral, mengindikasikan adanya perasaan cinta yang kuat dalam hubungan mereka.\n",
        "\n",
        "Tingkat Kepuasan dalam Hubungan\n",
        "Jawaban didominasi oleh \"Setuju\" dan \"Netral\", namun cukup banyak yang menjawab “Sangat Setuju” juga, menunjukkan tingkat kepuasan yang cukup tinggi, meskipun ada ruang untuk peningkatan."
      ]
    },
    {
      "cell_type": "code",
      "execution_count": 61,
      "metadata": {
        "colab": {
          "background_save": true
        },
        "id": "3pEFxn5nmJ_L",
        "outputId": "2ac2b617-b8ac-4d49-fddf-9856e5524fdb"
      },
      "outputs": [
        {
          "name": "stderr",
          "output_type": "stream",
          "text": [
            "C:\\Users\\user id\\AppData\\Roaming\\Python\\Python37\\site-packages\\ipykernel_launcher.py:48: UserWarning: Tight layout not applied. The bottom and top margins cannot be made large enough to accommodate all axes decorations. \n"
          ]
        },
        {
          "data": {
            "image/png": "[encoded data removed]",
            "text/plain": [
              "<Figure size 1200x60 with 1 Axes>"
            ]
          },
          "metadata": {},
          "output_type": "display_data"
        }
      ],
      "source": [
        "likert_columns = ['Pendapat Responden terhadap Hubungan Terakhir']\n",
        "\n",
        "category_labels = ['Sangat Mengaggu', 'Cukup Mengaggu', 'Netral', 'Cukup Mendukung', 'Sangat Mendukung']\n",
        "\n",
        "plot_likert_stacked_bar(df_pernah, likert_columns, categories_order, category_labels)"
      ]
    },
    {
      "cell_type": "markdown",
      "metadata": {
        "id": "He-M1m40rV1p"
      },
      "source": [
        "Sebagian besar responden (46%) merasa hubungan terakhir mereka mendukung, sementara 36% merasa terganggu, dan sisanya netral. Ini menunjukkan bahwa pengalaman hubungan romantis terakhir cenderung lebih banyak memberikan dampak positif dibanding negatif."
      ]
    },
    {
      "cell_type": "markdown",
      "metadata": {
        "id": "VGApvAmNs0nb"
      },
      "source": [
        "#Code Machine Learning"
      ]
    },
    {
      "cell_type": "code",
      "execution_count": 62,
      "metadata": {
        "colab": {
          "background_save": true
        },
        "id": "Ekv4sNIus6tO",
        "outputId": "45306f75-cd49-4431-c880-8eec7781773e"
      },
      "outputs": [
        {
          "name": "stdout",
          "output_type": "stream",
          "text": [
            "Accuracy: 0.24285714285714285\n",
            "\n",
            "Classification Report:\n",
            "               precision    recall  f1-score   support\n",
            "\n",
            "           1       0.00      0.00      0.00        11\n",
            "           2       0.33      0.43      0.38        14\n",
            "           3       0.18      0.15      0.17        13\n",
            "           4       0.23      0.39      0.29        18\n",
            "           5       0.18      0.14      0.16        14\n",
            "\n",
            "    accuracy                           0.24        70\n",
            "   macro avg       0.19      0.22      0.20        70\n",
            "weighted avg       0.20      0.24      0.21        70\n",
            "\n"
          ]
        },
        {
          "name": "stderr",
          "output_type": "stream",
          "text": [
            "c:\\Users\\user id\\AppData\\Local\\Programs\\Python\\Python37\\lib\\site-packages\\sklearn\\metrics\\_classification.py:1318: UndefinedMetricWarning: Precision and F-score are ill-defined and being set to 0.0 in labels with no predicted samples. Use `zero_division` parameter to control this behavior.\n",
            "  _warn_prf(average, modifier, msg_start, len(result))\n",
            "c:\\Users\\user id\\AppData\\Local\\Programs\\Python\\Python37\\lib\\site-packages\\sklearn\\metrics\\_classification.py:1318: UndefinedMetricWarning: Precision and F-score are ill-defined and being set to 0.0 in labels with no predicted samples. Use `zero_division` parameter to control this behavior.\n",
            "  _warn_prf(average, modifier, msg_start, len(result))\n",
            "c:\\Users\\user id\\AppData\\Local\\Programs\\Python\\Python37\\lib\\site-packages\\sklearn\\metrics\\_classification.py:1318: UndefinedMetricWarning: Precision and F-score are ill-defined and being set to 0.0 in labels with no predicted samples. Use `zero_division` parameter to control this behavior.\n",
            "  _warn_prf(average, modifier, msg_start, len(result))\n"
          ]
        }
      ],
      "source": [
        "import pandas as pd\n",
        "from sklearn.model_selection import train_test_split\n",
        "from sklearn.preprocessing import StandardScaler, OneHotEncoder\n",
        "from sklearn.compose import ColumnTransformer\n",
        "from sklearn.pipeline import Pipeline\n",
        "from sklearn.ensemble import RandomForestClassifier\n",
        "from sklearn.metrics import classification_report, confusion_matrix, accuracy_score\n",
        "from sklearn.impute import SimpleImputer\n",
        "\n",
        "# 1. Load Data\n",
        "df = pd.read_csv(\"DataAfter_3.csv\")  # Ganti dengan nama file atau sesuaikan dengan data Anda\n",
        "\n",
        "# 2. Tentukan fitur dan target\n",
        "X = df.drop(columns=[\"Pendapat Responden terhadap Hubungan Terakhir\"])\n",
        "y = df[\"Pendapat Responden terhadap Hubungan Terakhir\"]\n",
        "\n",
        "# 3. Deteksi kolom numerik dan kategorikal\n",
        "num_cols = X.select_dtypes(include=[\"int64\", \"float64\"]).columns.tolist()\n",
        "cat_cols = [col for col in X.columns if col not in num_cols]\n",
        "\n",
        "# 4. Preprocessing\n",
        "numeric_transformer = Pipeline(steps=[\n",
        "    (\"imputer\", SimpleImputer(strategy=\"mean\")),\n",
        "    (\"scaler\", StandardScaler())\n",
        "])\n",
        "\n",
        "categorical_transformer = Pipeline(steps=[\n",
        "    (\"imputer\", SimpleImputer(strategy=\"most_frequent\")),\n",
        "    (\"onehot\", OneHotEncoder(handle_unknown=\"ignore\"))\n",
        "])\n",
        "\n",
        "preprocessor = ColumnTransformer(\n",
        "    transformers=[\n",
        "        (\"num\", numeric_transformer, num_cols),\n",
        "        (\"cat\", categorical_transformer, cat_cols)\n",
        "    ]\n",
        ")\n",
        "\n",
        "# 5. Buat pipeline akhir\n",
        "model = Pipeline(steps=[\n",
        "    (\"preprocessor\", preprocessor),\n",
        "    (\"classifier\", RandomForestClassifier(random_state=42))\n",
        "])\n",
        "\n",
        "# 6. Train-test split\n",
        "X_train, X_test, y_train, y_test = train_test_split(\n",
        "    X, y, test_size=0.2, random_state=42, stratify=y\n",
        ")\n",
        "\n",
        "# 7. Fit model\n",
        "model.fit(X_train, y_train)\n",
        "\n",
        "# 8. Prediksi & evaluasi\n",
        "y_pred = model.predict(X_test)\n",
        "\n",
        "print(\"Accuracy:\", accuracy_score(y_test, y_pred))\n",
        "print(\"\\nClassification Report:\\n\", classification_report(y_test, y_pred))"
      ]
    },
    {
      "cell_type": "code",
      "execution_count": 63,
      "metadata": {
        "colab": {
          "background_save": true
        },
        "id": "5r3MUe9Ts_nc",
        "outputId": "ccc0054b-e431-4b35-be16-a4593b38cf87"
      },
      "outputs": [
        {
          "data": {
            "image/png": "[encoded data removed]",
            "text/plain": [
              "<Figure size 800x600 with 1 Axes>"
            ]
          },
          "metadata": {},
          "output_type": "display_data"
        }
      ],
      "source": [
        "# Confusion Matrix visual\n",
        "import seaborn as sns\n",
        "import matplotlib.pyplot as plt\n",
        "\n",
        "cm = confusion_matrix(y_test, y_pred)\n",
        "\n",
        "plt.figure(figsize=(8, 6))\n",
        "sns.heatmap(cm, annot=True, fmt=\"d\", cmap=\"Blues\", cbar=False,\n",
        "            xticklabels=sorted(y.unique()),\n",
        "            yticklabels=sorted(y.unique()))\n",
        "\n",
        "plt.title(\"Confusion Matrix\")\n",
        "plt.xlabel(\"Predicted Label\")\n",
        "plt.ylabel(\"True Label\")\n",
        "plt.tight_layout()\n",
        "plt.show()"
      ]
    }
  ],
  "metadata": {
    "colab": {
      "provenance": []
    },
    "kernelspec": {
      "display_name": "Python 3",
      "name": "python3"
    },
    "language_info": {
      "codemirror_mode": {
        "name": "ipython",
        "version": 3
      },
      "file_extension": ".py",
      "mimetype": "text/x-python",
      "name": "python",
      "nbconvert_exporter": "python",
      "pygments_lexer": "ipython3",
      "version": "3.7.6"
    }
  },
  "nbformat": 4,
  "nbformat_minor": 0
}
